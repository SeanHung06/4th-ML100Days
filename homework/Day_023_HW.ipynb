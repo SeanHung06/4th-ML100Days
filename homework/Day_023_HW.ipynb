{
 "cells": [
  {
   "cell_type": "markdown",
   "metadata": {
    "collapsed": true
   },
   "source": [
    "# 作業 : (Kaggle)鐵達尼生存預測 \n",
    "https://www.kaggle.com/c/titanic"
   ]
  },
  {
   "cell_type": "markdown",
   "metadata": {},
   "source": [
    "# [作業目標]\n",
    "- 試著模仿範例寫法, 在鐵達尼生存預測中, 觀察降低偏態的影響"
   ]
  },
  {
   "cell_type": "markdown",
   "metadata": {},
   "source": [
    "# [作業重點]\n",
    "- 觀察使用log1p降偏態時, 對於分布與迴歸分數的影響 (In[6], Out[6])\n",
    "- 修正區塊中的資料問題後, 觀察以box-cox降偏態, 對於分布與迴歸分數的影響 (In[7], Out[7])"
   ]
  },
  {
   "cell_type": "code",
   "execution_count": 1,
   "metadata": {},
   "outputs": [
    {
     "output_type": "execute_result",
     "data": {
      "text/plain": "   Pclass                                               Name     Sex   Age  \\\n0       3                            Braund, Mr. Owen Harris    male  22.0   \n1       1  Cumings, Mrs. John Bradley (Florence Briggs Th...  female  38.0   \n2       3                             Heikkinen, Miss. Laina  female  26.0   \n3       1       Futrelle, Mrs. Jacques Heath (Lily May Peel)  female  35.0   \n4       3                           Allen, Mr. William Henry    male  35.0   \n\n   SibSp  Parch            Ticket     Fare Cabin Embarked  \n0      1      0         A/5 21171   7.2500   NaN        S  \n1      1      0          PC 17599  71.2833   C85        C  \n2      0      0  STON/O2. 3101282   7.9250   NaN        S  \n3      1      0            113803  53.1000  C123        S  \n4      0      0            373450   8.0500   NaN        S  ",
      "text/html": "<div>\n<style scoped>\n    .dataframe tbody tr th:only-of-type {\n        vertical-align: middle;\n    }\n\n    .dataframe tbody tr th {\n        vertical-align: top;\n    }\n\n    .dataframe thead th {\n        text-align: right;\n    }\n</style>\n<table border=\"1\" class=\"dataframe\">\n  <thead>\n    <tr style=\"text-align: right;\">\n      <th></th>\n      <th>Pclass</th>\n      <th>Name</th>\n      <th>Sex</th>\n      <th>Age</th>\n      <th>SibSp</th>\n      <th>Parch</th>\n      <th>Ticket</th>\n      <th>Fare</th>\n      <th>Cabin</th>\n      <th>Embarked</th>\n    </tr>\n  </thead>\n  <tbody>\n    <tr>\n      <td>0</td>\n      <td>3</td>\n      <td>Braund, Mr. Owen Harris</td>\n      <td>male</td>\n      <td>22.0</td>\n      <td>1</td>\n      <td>0</td>\n      <td>A/5 21171</td>\n      <td>7.2500</td>\n      <td>NaN</td>\n      <td>S</td>\n    </tr>\n    <tr>\n      <td>1</td>\n      <td>1</td>\n      <td>Cumings, Mrs. John Bradley (Florence Briggs Th...</td>\n      <td>female</td>\n      <td>38.0</td>\n      <td>1</td>\n      <td>0</td>\n      <td>PC 17599</td>\n      <td>71.2833</td>\n      <td>C85</td>\n      <td>C</td>\n    </tr>\n    <tr>\n      <td>2</td>\n      <td>3</td>\n      <td>Heikkinen, Miss. Laina</td>\n      <td>female</td>\n      <td>26.0</td>\n      <td>0</td>\n      <td>0</td>\n      <td>STON/O2. 3101282</td>\n      <td>7.9250</td>\n      <td>NaN</td>\n      <td>S</td>\n    </tr>\n    <tr>\n      <td>3</td>\n      <td>1</td>\n      <td>Futrelle, Mrs. Jacques Heath (Lily May Peel)</td>\n      <td>female</td>\n      <td>35.0</td>\n      <td>1</td>\n      <td>0</td>\n      <td>113803</td>\n      <td>53.1000</td>\n      <td>C123</td>\n      <td>S</td>\n    </tr>\n    <tr>\n      <td>4</td>\n      <td>3</td>\n      <td>Allen, Mr. William Henry</td>\n      <td>male</td>\n      <td>35.0</td>\n      <td>0</td>\n      <td>0</td>\n      <td>373450</td>\n      <td>8.0500</td>\n      <td>NaN</td>\n      <td>S</td>\n    </tr>\n  </tbody>\n</table>\n</div>"
     },
     "metadata": {},
     "execution_count": 1
    }
   ],
   "source": [
    "# 做完特徵工程前的所有準備 (與前範例相同)\n",
    "import pandas as pd\n",
    "import numpy as np\n",
    "import copy\n",
    "from sklearn.preprocessing import MinMaxScaler\n",
    "from sklearn.model_selection import cross_val_score\n",
    "from sklearn.linear_model import LogisticRegression\n",
    "\n",
    "data_path = '/Users/seanhung06/Documents/GitHub/Data/'\n",
    "df_train = pd.read_csv(data_path + 'titanic_train.csv')\n",
    "df_test = pd.read_csv(data_path + 'titanic_test.csv')\n",
    "\n",
    "train_Y = df_train['Survived']\n",
    "ids = df_test['PassengerId']\n",
    "df_train = df_train.drop(['PassengerId', 'Survived'] , axis=1)\n",
    "df_test = df_test.drop(['PassengerId'] , axis=1)\n",
    "df = pd.concat([df_train,df_test])\n",
    "df.head()"
   ]
  },
  {
   "cell_type": "code",
   "execution_count": 4,
   "metadata": {
    "tags": []
   },
   "outputs": [
    {
     "output_type": "stream",
     "name": "stdout",
     "text": "5 Numeric Features : ['Pclass', 'Age', 'SibSp', 'Parch', 'Fare']\n\n"
    },
    {
     "output_type": "execute_result",
     "data": {
      "text/plain": "   Pclass   Age  SibSp  Parch     Fare\n0       3  22.0      1      0   7.2500\n1       1  38.0      1      0  71.2833\n2       3  26.0      0      0   7.9250\n3       1  35.0      1      0  53.1000\n4       3  35.0      0      0   8.0500",
      "text/html": "<div>\n<style scoped>\n    .dataframe tbody tr th:only-of-type {\n        vertical-align: middle;\n    }\n\n    .dataframe tbody tr th {\n        vertical-align: top;\n    }\n\n    .dataframe thead th {\n        text-align: right;\n    }\n</style>\n<table border=\"1\" class=\"dataframe\">\n  <thead>\n    <tr style=\"text-align: right;\">\n      <th></th>\n      <th>Pclass</th>\n      <th>Age</th>\n      <th>SibSp</th>\n      <th>Parch</th>\n      <th>Fare</th>\n    </tr>\n  </thead>\n  <tbody>\n    <tr>\n      <td>0</td>\n      <td>3</td>\n      <td>22.0</td>\n      <td>1</td>\n      <td>0</td>\n      <td>7.2500</td>\n    </tr>\n    <tr>\n      <td>1</td>\n      <td>1</td>\n      <td>38.0</td>\n      <td>1</td>\n      <td>0</td>\n      <td>71.2833</td>\n    </tr>\n    <tr>\n      <td>2</td>\n      <td>3</td>\n      <td>26.0</td>\n      <td>0</td>\n      <td>0</td>\n      <td>7.9250</td>\n    </tr>\n    <tr>\n      <td>3</td>\n      <td>1</td>\n      <td>35.0</td>\n      <td>1</td>\n      <td>0</td>\n      <td>53.1000</td>\n    </tr>\n    <tr>\n      <td>4</td>\n      <td>3</td>\n      <td>35.0</td>\n      <td>0</td>\n      <td>0</td>\n      <td>8.0500</td>\n    </tr>\n  </tbody>\n</table>\n</div>"
     },
     "metadata": {},
     "execution_count": 4
    }
   ],
   "source": [
    "#只取 int64, float64 兩種數值型欄位, 存於 num_features 中\n",
    "num_features = []\n",
    "for dtype, feature in zip(df.dtypes, df.columns):\n",
    "    if dtype == 'float64' or dtype == 'int64':\n",
    "        num_features.append(feature)\n",
    "print(f'{len(num_features)} Numeric Features : {num_features}\\n')\n",
    "\n",
    "# 削減文字型欄位, 只剩數值型欄位\n",
    "df = df[num_features]\n",
    "df = df.fillna(0)\n",
    "MMEncoder = MinMaxScaler()\n",
    "train_num = train_Y.shape[0]\n",
    "df.head()"
   ]
  },
  {
   "cell_type": "code",
   "execution_count": 5,
   "metadata": {},
   "outputs": [
    {
     "output_type": "display_data",
     "data": {
      "text/plain": "<Figure size 640x480 with 1 Axes>"
     },
     "metadata": {}
    }
   ],
   "source": [
    "# 顯示 Fare 與目標值的散佈圖\n",
    "import seaborn as sns\n",
    "import matplotlib.pyplot as plt\n",
    "sns.distplot(df['Fare'][:train_num])\n",
    "plt.show()"
   ]
  },
  {
   "cell_type": "code",
   "execution_count": 6,
   "metadata": {},
   "outputs": [
    {
     "output_type": "execute_result",
     "data": {
      "text/plain": "0.7016289882888318"
     },
     "metadata": {},
     "execution_count": 6
    }
   ],
   "source": [
    "# 計算基礎分數\n",
    "df_mm = MMEncoder.fit_transform(df)\n",
    "train_X = df_mm[:train_num]\n",
    "estimator = LogisticRegression()\n",
    "cross_val_score(estimator, train_X, train_Y, cv=5).mean()"
   ]
  },
  {
   "cell_type": "markdown",
   "metadata": {},
   "source": [
    "# 作業1 \n",
    "* 試著在鐵達尼的票價 (Fare) 欄位中使用對數去偏 (log1p) , 結果是否更好?"
   ]
  },
  {
   "cell_type": "code",
   "execution_count": 7,
   "metadata": {
    "collapsed": true
   },
   "outputs": [
    {
     "output_type": "display_data",
     "data": {
      "text/plain": "<Figure size 432x288 with 1 Axes>",
      "image/png": "[encoded data removed]"
     },
     "metadata": {
      "needs_background": "light"
     }
    },
    {
     "output_type": "execute_result",
     "data": {
      "text/plain": "0.7106367963253961"
     },
     "metadata": {},
     "execution_count": 7
    }
   ],
   "source": [
    "# 將 Fare 取 log1p 後, 看散佈圖, 並計算分數\n",
    "df_fixed = copy.deepcopy(df)\n",
    "df_fixed['Fare'] = np.log1p(df_fixed['Fare'])\n",
    "\n",
    "sns.distplot(df_fixed['Fare'][:train_num])\n",
    "plt.show()\n",
    "\n",
    "df_fixed = MMEncoder.fit_transform(df_fixed)\n",
    "train_X = df_fixed[:train_num]\n",
    "estimator = LogisticRegression()\n",
    "cross_val_score(estimator, train_X, train_Y, cv=5).mean()"
   ]
  },
  {
   "cell_type": "markdown",
   "metadata": {},
   "source": [
    "# 作業2\n",
    "* 最後的 boxcox 區塊直接執行會造成錯誤, 起因為輸入值有負值, 請問如何修正後可以使用 boxcox? (Hint : 試圖修正資料)"
   ]
  },
  {
   "cell_type": "code",
   "execution_count": 16,
   "metadata": {
    "collapsed": true
   },
   "outputs": [
    {
     "output_type": "error",
     "ename": "ValueError",
     "evalue": "Data must be positive.",
     "traceback": [
      "\u001b[0;31m---------------------------------------------------------------------------\u001b[0m",
      "\u001b[0;31mValueError\u001b[0m                                Traceback (most recent call last)",
      "\u001b[0;32m<ipython-input-16-c9639feafd6c>\u001b[0m in \u001b[0;36m<module>\u001b[0;34m\u001b[0m\n\u001b[1;32m      2\u001b[0m \u001b[0;32mfrom\u001b[0m \u001b[0mscipy\u001b[0m \u001b[0;32mimport\u001b[0m \u001b[0mstats\u001b[0m\u001b[0;34m\u001b[0m\u001b[0;34m\u001b[0m\u001b[0m\n\u001b[1;32m      3\u001b[0m \u001b[0mdf_fixed\u001b[0m \u001b[0;34m=\u001b[0m \u001b[0mcopy\u001b[0m\u001b[0;34m.\u001b[0m\u001b[0mdeepcopy\u001b[0m\u001b[0;34m(\u001b[0m\u001b[0mdf\u001b[0m\u001b[0;34m)\u001b[0m\u001b[0;34m\u001b[0m\u001b[0;34m\u001b[0m\u001b[0m\n\u001b[0;32m----> 4\u001b[0;31m \u001b[0mdf_fixed\u001b[0m\u001b[0;34m[\u001b[0m\u001b[0;34m'Fare'\u001b[0m\u001b[0;34m]\u001b[0m \u001b[0;34m=\u001b[0m \u001b[0mstats\u001b[0m\u001b[0;34m.\u001b[0m\u001b[0mboxcox\u001b[0m\u001b[0;34m(\u001b[0m\u001b[0mdf_fixed\u001b[0m\u001b[0;34m[\u001b[0m\u001b[0;34m'Fare'\u001b[0m\u001b[0;34m]\u001b[0m\u001b[0;34m,\u001b[0m \u001b[0mlmbda\u001b[0m\u001b[0;34m=\u001b[0m\u001b[0;36m0.15\u001b[0m\u001b[0;34m)\u001b[0m\u001b[0;34m\u001b[0m\u001b[0;34m\u001b[0m\u001b[0m\n\u001b[0m",
      "\u001b[0;32m~/opt/anaconda3/lib/python3.7/site-packages/scipy/stats/morestats.py\u001b[0m in \u001b[0;36mboxcox\u001b[0;34m(x, lmbda, alpha)\u001b[0m\n\u001b[1;32m   1037\u001b[0m \u001b[0;34m\u001b[0m\u001b[0m\n\u001b[1;32m   1038\u001b[0m     \u001b[0;32mif\u001b[0m \u001b[0many\u001b[0m\u001b[0;34m(\u001b[0m\u001b[0mx\u001b[0m \u001b[0;34m<=\u001b[0m \u001b[0;36m0\u001b[0m\u001b[0;34m)\u001b[0m\u001b[0;34m:\u001b[0m\u001b[0;34m\u001b[0m\u001b[0;34m\u001b[0m\u001b[0m\n\u001b[0;32m-> 1039\u001b[0;31m         \u001b[0;32mraise\u001b[0m \u001b[0mValueError\u001b[0m\u001b[0;34m(\u001b[0m\u001b[0;34m\"Data must be positive.\"\u001b[0m\u001b[0;34m)\u001b[0m\u001b[0;34m\u001b[0m\u001b[0;34m\u001b[0m\u001b[0m\n\u001b[0m\u001b[1;32m   1040\u001b[0m \u001b[0;34m\u001b[0m\u001b[0m\n\u001b[1;32m   1041\u001b[0m     \u001b[0;32mif\u001b[0m \u001b[0mlmbda\u001b[0m \u001b[0;32mis\u001b[0m \u001b[0;32mnot\u001b[0m \u001b[0;32mNone\u001b[0m\u001b[0;34m:\u001b[0m  \u001b[0;31m# single transformation\u001b[0m\u001b[0;34m\u001b[0m\u001b[0;34m\u001b[0m\u001b[0m\n",
      "\u001b[0;31mValueError\u001b[0m: Data must be positive."
     ]
    }
   ],
   "source": [
    "# 將 Fare 取 boxcox 後, 看散佈圖, 並計算分數 (執行會有 error, 請試圖修正)\n",
    "from scipy import stats\n",
    "df_fixed = copy.deepcopy(df)\n",
    "df_fixed['Fare'] = stats.boxcox(df_fixed['Fare'], lmbda=0.15)\n",
    "\n",
    "df_fixed['Fare'] = stats.boxcox(df_fixed['Fare'])[0]\n",
    "sns.distplot(df_fixed['Fare'][:train_num])\n",
    "plt.show()\n",
    "\n",
    "df_fixed = MMEncoder.fit_transform(df_fixed)\n",
    "train_X = df_fixed[:train_num]\n",
    "estimator = LogisticRegression()\n",
    "cross_val_score(estimator, train_X, train_Y, cv=5).mean()"
   ]
  },
  {
   "cell_type": "code",
   "execution_count": 15,
   "metadata": {
    "collapsed": true
   },
   "outputs": [
    {
     "output_type": "execute_result",
     "data": {
      "text/plain": "0        7.2500\n1       71.2833\n2        7.9250\n3       53.1000\n4        8.0500\n         ...   \n413      8.0500\n414    108.9000\n415      7.2500\n416      8.0500\n417     22.3583\nName: Fare, Length: 1309, dtype: float64"
     },
     "metadata": {},
     "execution_count": 15
    }
   ],
   "source": [
    "from scipy import stats\n",
    "df_fixed = copy.deepcopy(df)\n",
    "df_fixed['Fare']"
   ]
  },
  {
   "cell_type": "code",
   "execution_count": 22,
   "metadata": {
    "tags": []
   },
   "outputs": [
    {
     "output_type": "execute_result",
     "data": {
      "text/plain": "14.5000\\n133     26.0000\\n134     13.0000\\n135     15.0458\\n136     26.2833\\n137     53.1000\\n138      9.2167\\n139     79.2000\\n140     15.2458\\n141      7.7500\\n142     15.8500\\n143      6.7500\\n144     11.5000\\n145     36.7500\\n146      7.7958\\n147     34.3750\\n148     26.0000\\n149     13.0000\\n150     12.5250\\n151     66.6000\\n152      8.0500\\n153     14.5000\\n154      7.3125\\n155     61.3792\\n156      7.7333\\n157      8.0500\\n158      8.6625\\n159     69.5500\\n160     16.1000\\n161     15.7500\\n162      7.7750\\n163      8.6625\\n164     39.6875\\n165     20.5250\\n166     55.0000\\n167     27.9000\\n168     25.9250\\n169     56.4958\\n170     33.5000\\n171     29.1250\\n172     11.1333\\n173      7.9250\\n174     30.6958\\n175      7.8542\\n176     25.4667\\n177     28.7125\\n178     13.0000\\n179      0.0000\\n180     69.5500\\n181     15.0500\\n182     31.3875\\n183     39.0000\\n184     22.0250\\n185     50.0000\\n186     15.5000\\n187     26.5500\\n188     15.5000\\n189      7.8958\\n190     13.0000\\n191     13.0000\\n192      7.8542\\n193     26.0000\\n194     27.7208\\n195    146.5208\\n196      7.7500\\n197      8.4042\\n198      7.7500\\n199     13.0000\\n200      9.5000\\n201     69.5500\\n202      6.4958\\n203      7.2250\\n204      8.0500\\n205     10.4625\\n206     15.8500\\n207     18.7875\\n208      7.7500\\n209     31.0000\\n210      7.0500\\n211     21.0000\\n212      7.2500\\n213     13.0000\\n214      7.7500\\n215    113.2750\\n216      7.9250\\n217     27.0000\\n218     76.2917\\n219     10.5000\\n220      8.0500\\n221     13.0000\\n222      8.0500\\n223      7.8958\\n224     90.0000\\n225      9.3500\\n226     10.5000\\n227      7.2500\\n228     13.0000\\n229     25.4667\\n230     83.4750\\n231      7.7750\\n232     13.5000\\n233     31.3875\\n234     10.5000\\n235      7.5500\\n236     26.0000\\n237     26.2500\\n238     10.5000\\n239     12.2750\\n240     14.4542\\n241     15.5000\\n242     10.5000\\n243      7.1250\\n244      7.2250\\n245     90.0000\\n246      7.7750\\n247     14.5000\\n248     52.5542\\n249     26.0000\\n250      7.2500\\n251     10.4625\\n252     26.5500\\n253     16.1000\\n254     20.2125\\n255     15.2458\\n256     79.2000\\n257     86.5000\\n258    512.3292\\n259     26.0000\\n260      7.7500\\n261     31.3875\\n262     79.6500\\n263      0.0000\\n264      7.7500\\n265     10.5000\\n266     39.6875\\n267      7.7750\\n268    153.4625\\n269    135.6333\\n270     31.0000\\n271      0.0000\\n272     19.5000\\n273     29.7000\\n274      7.7500\\n275     77.9583\\n276      7.7500\\n277      0.0000\\n278     29.1250\\n279     20.2500\\n280      7.7500\\n281      7.8542\\n282      9.5000\\n283      8.0500\\n284     26.0000\\n285      8.6625\\n286      9.5000\\n287      7.8958\\n288     13.0000\\n289      7.7500\\n290     78.8500\\n291     91.0792\\n292     12.8750\\n293      8.8500\\n294      7.8958\\n295     27.7208\\n296      7.2292\\n297    151.5500\\n298     30.5000\\n299    247.5208\\n300      7.7500\\n301     23.2500\\n302      0.0000\\n303     12.3500\\n304      8.0500\\n305    151.5500\\n306    110.8833\\n307    108.9000\\n308     24.0000\\n309     56.9292\\n310     83.1583\\n311    262.3750\\n312     26.0000\\n313      7.8958\\n314     26.2500\\n315      7.8542\\n316     26.0000\\n317     14.0000\\n318    164.8667\\n319    134.5000\\n320      7.2500\\n321      7.8958\\n322     12.3500\\n323     29.0000\\n324     69.5500\\n325    135.6333\\n326      6.2375\\n327     13.0000\\n328     20.5250\\n329     57.9792\\n330     23.2500\\n331     28.5000\\n332    153.4625\\n333     18.0000\\n334    133.6500\\n335      7.8958\\n336     66.6000\\n337    134.5000\\n338      8.0500\\n339     35.5000\\n340     26.0000\\n341    263.0000\\n342     13.0000\\n343     13.0000\\n344     13.0000\\n345     13.0000\\n346     13.0000\\n347     16.1000\\n348     15.9000\\n349      8.6625\\n350      9.2250\\n351     35.0000\\n352      7.2292\\n353     17.8000\\n354      7.2250\\n355      9.5000\\n356     55.0000\\n357     13.0000\\n358      7.8792\\n359      7.8792\\n360     27.9000\\n361     27.7208\\n362     14.4542\\n363      7.0500\\n364     15.5000\\n365      7.2500\\n366     75.2500\\n367      7.2292\\n368      7.7500\\n369     69.3000\\n370     55.4417\\n371      6.4958\\n372      8.0500\\n373    135.6333\\n374     21.0750\\n375     82.1708\\n376      7.2500\\n377    211.5000\\n378      4.0125\\n379      7.7750\\n380    227.5250\\n381     15.7417\\n382      7.9250\\n383     52.0000\\n384      7.8958\\n385     73.5000\\n386     46.9000\\n387     13.0000\\n388      7.7292\\n389     12.0000\\n390    120.0000\\n391      7.7958\\n392      7.9250\\n393    113.2750\\n394     16.7000\\n395      7.7958\\n396      7.8542\\n397     26.0000\\n398     10.5000\\n399     12.6500\\n400      7.9250\\n401      8.0500\\n402      9.8250\\n403     15.8500\\n404      8.6625\\n405     21.0000\\n406      7.7500\\n407     18.7500\\n408      7.7750\\n409     25.4667\\n410      7.8958\\n411      6.8583\\n412     90.0000\\n413      0.0000\\n414      7.9250\\n415      8.0500\\n416     32.5000\\n417     13.0000\\n418     13.0000\\n419     24.1500\\n420      7.8958\\n421      7.7333\\n422      7.8750\\n423     14.4000\\n424     20.2125\\n425      7.2500\\n426     26.0000\\n427     26.0000\\n428      7.7500\\n429      8.0500\\n430     26.5500\\n431     16.1000\\n432     26.0000\\n433      7.1250\\n434     55.9000\\n435    120.0000\\n436     34.3750\\n437     18.7500\\n438    263.0000\\n439     10.5000\\n440     26.2500\\n441      9.5000\\n442      7.7750\\n443     13.0000\\n444      8.1125\\n445     81.8583\\n446     19.5000\\n447     26.5500\\n448     19.2583\\n449     30.5000\\n450     27.7500\\n451     19.9667\\n452     27.7500\\n453     89.1042\\n454      8.0500\\n455      7.8958\\n456     26.5500\\n457     51.8625\\n458     10.5000\\n459      7.7500\\n460     26.5500\\n461      8.0500\\n462     38.5000\\n463     13.0000\\n464      8.0500\\n465      7.0500\\n466      0.0000\\n467     26.5500\\n468      7.7250\\n469     19.2583\\n470      7.2500\\n471      8.6625\\n472     27.7500\\n473     13.7917\\n474      9.8375\\n475     52.0000\\n476     21.0000\\n477      7.0458\\n478      7.5208\\n479     12.2875\\n480     46.9000\\n481      0.0000\\n482      8.0500\\n483      9.5875\\n484     91.0792\\n485     25.4667\\n486     90.0000\\n487     29.7000\\n488      8.0500\\n489     15.9000\\n490     19.9667\\n491      7.2500\\n492     30.5000\\n493     49.5042\\n494      8.0500\\n495     14.4583\\n496     78.2667\\n497     15.1000\\n498    151.5500\\n499      7.7958\\n500      8.6625\\n501      7.7500\\n502      7.6292\\n503      9.5875\\n504     86.5000\\n505    108.9000\\n506     26.0000\\n507     26.5500\\n508     22.5250\\n509     56.4958\\n510      7.7500\\n511      8.0500\\n512     26.2875\\n513     59.4000\\n514      7.4958\\n515     34.0208\\n516     10.5000\\n517     24.1500\\n518     26.0000\\n519      7.8958\\n520     93.5000\\n521      7.8958\\n522      7.2250\\n523     57.9792\\n524      7.2292\\n525      7.7500\\n526     10.5000\\n527    221.7792\\n528      7.9250\\n529     11.5000\\n530     26.0000\\n531      7.2292\\n532      7.2292\\n533     22.3583\\n534      8.6625\\n535     26.2500\\n536     26.5500\\n537    106.4250\\n538     14.5000\\n539     49.5000\\n540     71.0000\\n541     31.2750\\n542     31.2750\\n543     26.0000\\n544    106.4250\\n545     26.0000\\n546     26.0000\\n547     13.8625\\n548     20.5250\\n549     36.7500\\n550    110.8833\\n551     26.0000\\n552      7.8292\\n553      7.2250\\n554      7.7750\\n555     26.5500\\n556     39.6000\\n557    227.5250\\n558     79.6500\\n559     17.4000\\n560      7.7500\\n561      7.8958\\n562     13.5000\\n563      8.0500\\n564      8.0500\\n565     24.1500\\n566      7.8958\\n567     21.0750\\n568      7.2292\\n569      7.8542\\n570     10.5000\\n571     51.4792\\n572     26.3875\\n573      7.7500\\n574      8.0500\\n575     14.5000\\n576     13.0000\\n577     55.9000\\n578     14.4583\\n579      7.9250\\n580     30.0000\\n581    110.8833\\n582     26.0000\\n583     40.1250\\n584      8.7125\\n585     79.6500\\n586     15.0000\\n587     79.2000\\n588      8.0500\\n589      8.0500\\n590      7.1250\\n591     78.2667\\n592      7.2500\\n593      7.7500\\n594     26.0000\\n595     24.1500\\n596     33.0000\\n597      0.0000\\n598      7.2250\\n599     56.9292\\n600     27.0000\\n601      7.8958\\n602     42.4000\\n603      8.0500\\n604     26.5500\\n605     15.5500\\n606      7.8958\\n607     30.5000\\n608     41.5792\\n609    153.4625\\n610     31.2750\\n611      7.0500\\n612     15.5000\\n613      7.7500\\n614      8.0500\\n615     65.0000\\n616     14.4000\\n617     16.1000\\n618     39.0000\\n619     10.5000\\n620     14.4542\\n621     52.5542\\n622     15.7417\\n623      7.8542\\n624     16.1000\\n625     32.3208\\n626     12.3500\\n627     77.9583\\n628      7.8958\\n629      7.7333\\n630     30.0000\\n631      7.0542\\n632     30.5000\\n633      0.0000\\n634     27.9000\\n635     13.0000\\n636      7.9250\\n637     26.2500\\n638     39.6875\\n639     16.1000\\n640      7.8542\\n641     69.3000\\n642     27.9000\\n643     56.4958\\n644     19.2583\\n645     76.7292\\n646      7.8958\\n647     35.5000\\n648      7.5500\\n649      7.5500\\n650      7.8958\\n651     23.0000\\n652      8.4333\\n653      7.8292\\n654      6.7500\\n655     73.5000\\n656      7.8958\\n657     15.5000\\n658     13.0000\\n659    113.2750\\n660    133.6500\\n661      7.2250\\n662     25.5875\\n663      7.4958\\n664      7.9250\\n665     73.5000\\n666     13.0000\\n667      7.7750\\n668      8.0500\\n669     52.0000\\n670     39.0000\\n671     52.0000\\n672     10.5000\\n673     13.0000\\n674      0.0000\\n675      7.7750\\n676      8.0500\\n677      9.8417\\n678     46.9000\\n679    512.3292\\n680      8.1375\\n681     76.7292\\n682      9.2250\\n683     46.9000\\n684     39.0000\\n685     41.5792\\n686     39.6875\\n687     10.1708\\n688      7.7958\\n689    211.3375\\n690     57.0000\\n691     13.4167\\n692     56.4958\\n693      7.2250\\n694     26.5500\\n695     13.5000\\n696      8.0500\\n697      7.7333\\n698    110.8833\\n699      7.6500\\n700    227.5250\\n701     26.2875\\n702     14.4542\\n703      7.7417\\n704      7.8542\\n705     26.0000\\n706     13.5000\\n707     26.2875\\n708    151.5500\\n709     15.2458\\n710     49.5042\\n711     26.5500\\n712     52.0000\\n713      9.4833\\n714     13.0000\\n715      7.6500\\n716    227.5250\\n717     10.5000\\n718     15.5000\\n719      7.7750\\n720     33.0000\\n721      7.0542\\n722     13.0000\\n723     13.0000\\n724     53.1000\\n725      8.6625\\n726     21.0000\\n727      7.7375\\n728     26.0000\\n729      7.9250\\n730    211.3375\\n731     18.7875\\n732      0.0000\\n733     13.0000\\n734     13.0000\\n735     16.1000\\n736     34.3750\\n737    512.3292\\n738      7.8958\\n739      7.8958\\n740     30.0000\\n741     78.8500\\n742    262.3750\\n743     16.1000\\n744      7.9250\\n745     71.0000\\n746     20.2500\\n747     13.0000\\n748     53.1000\\n749      7.7500\\n750     23.0000\\n751     12.4750\\n752      9.5000\\n753      7.8958\\n754     65.0000\\n755     14.5000\\n756      7.7958\\n757     11.5000\\n758      8.0500\\n759     86.5000\\n760     14.5000\\n761      7.1250\\n762      7.2292\\n763    120.0000\\n764      7.7750\\n765     77.9583\\n766     39.6000\\n767      7.7500\\n768     24.1500\\n769      8.3625\\n770      9.5000\\n771      7.8542\\n772     10.5000\\n773      7.2250\\n774     23.0000\\n775      7.7500\\n776      7.7500\\n777     12.4750\\n778      7.7375\\n779    211.3375\\n780      7.2292\\n781     57.0000\\n782     30.0000\\n783     23.4500\\n784      7.0500\\n785      7.2500\\n786      7.4958\\n787     29.1250\\n788     20.5750\\n789     79.2000\\n790      7.7500\\n791     26.0000\\n792     69.5500\\n793     30.6958\\n794      7.8958\\n795     13.0000\\n796     25.9292\\n797      8.6833\\n798      7.2292\\n799     24.1500\\n800     13.0000\\n801     26.2500\\n802    120.0000\\n803      8.5167\\n804      6.9750\\n805      7.7750\\n806      0.0000\\n807      7.7750\\n808     13.0000\\n809     53.1000\\n810      7.8875\\n811     24.1500\\n812     10.5000\\n813     31.2750\\n814      8.0500\\n815      0.0000\\n816      7.9250\\n817     37.0042\\n818      6.4500\\n819     27.9000\\n820     93.5000\\n821      8.6625\\n822      0.0000\\n823     12.4750\\n824     39.6875\\n825      6.9500\\n826     56.4958\\n827     37.0042\\n828      7.7500\\n829     80.0000\\n830     14.4542\\n831     18.7500\\n832      7.2292\\n833      7.8542\\n834      8.3000\\n835     83.1583\\n836      8.6625\\n837      8.0500\\n838     56.4958\\n839     29.7000\\n840      7.9250\\n841     10.5000\\n842     31.0000\\n843      6.4375\\n844      8.6625\\n845      7.5500\\n846     69.5500\\n847      7.8958\\n848     33.0000\\n849     89.1042\\n850     31.2750\\n851      7.7750\\n852     15.2458\\n853     39.4000\\n854     26.0000\\n855      9.3500\\n856    164.8667\\n857     26.5500\\n858     19.2583\\n859      7.2292\\n860     14.1083\\n861     11.5000\\n862     25.9292\\n863     69.5500\\n864     13.0000\\n865     13.0000\\n866     13.8583\\n867     50.4958\\n868      9.5000\\n869     11.1333\\n870      7.8958\\n871     52.5542\\n872      5.0000\\n873      9.0000\\n874     24.0000\\n875      7.2250\\n876      9.8458\\n877      7.8958\\n878      7.8958\\n879     83.1583\\n880     26.0000\\n881      7.8958\\n882     10.5167\\n883     10.5000\\n884      7.0500\\n885     29.1250\\n886     13.0000\\n887     30.0000\\n888     23.4500\\n889     30.0000\\n890      7.7500\\n0        7.8292\\n1        7.0000\\n2        9.6875\\n3        8.6625\\n4       12.2875\\n5        9.2250\\n6        7.6292\\n7       29.0000\\n8        7.2292\\n9       24.1500\\n10       7.8958\\n11      26.0000\\n12      82.2667\\n13      26.0000\\n14      61.1750\\n15      27.7208\\n16      12.3500\\n17       7.2250\\n18       7.9250\\n19       7.2250\\n20      59.4000\\n21       3.1708\\n22      31.6833\\n23      61.3792\\n24     262.3750\\n25      14.5000\\n26      61.9792\\n27       7.2250\\n28      30.5000\\n29      21.6792\\n30      26.0000\\n31      31.5000\\n32      20.5750\\n33      23.4500\\n34      57.7500\\n35       7.2292\\n36       8.0500\\n37       8.6625\\n38       9.5000\\n39      56.4958\\n40      13.4167\\n41      26.5500\\n42       7.8500\\n43      13.0000\\n44      52.5542\\n45       7.9250\\n46      29.7000\\n47       7.7500\\n48      76.2917\\n49      15.9000\\n50      60.0000\\n51      15.0333\\n52      23.0000\\n53     263.0000\\n54      15.5792\\n55      29.1250\\n56       7.8958\\n57       7.6500\\n58      16.1000\\n59     262.3750\\n60       7.8958\\n61      13.5000\\n62       7.7500\\n63       7.7250\\n64     262.3750\\n65      21.0000\\n66       7.8792\\n67      42.4000\\n68      28.5375\\n69     263.0000\\n70       7.7500\\n71       7.8958\\n72       7.9250\\n73      27.7208\\n74     211.5000\\n75     211.5000\\n76       8.0500\\n77      25.7000\\n78      13.0000\\n79       7.7500\\n80      15.2458\\n81     221.7792\\n82      26.0000\\n83       7.8958\\n84      10.7083\\n85      14.4542\\n86       7.8792\\n87       8.0500\\n88       7.7500\\n89      23.0000\\n90      13.9000\\n91       7.7750\\n92      52.0000\\n93       8.0500\\n94      26.0000\\n95       7.7958\\n96      78.8500\\n97       7.9250\\n98       7.8542\\n99       8.0500\\n100     55.4417\\n101     26.0000\\n102      7.7500\\n103      7.7750\\n104      8.5167\\n105     22.5250\\n106      7.8208\\n107      7.7500\\n108      8.7125\\n109     13.0000\\n110     15.0458\\n111      7.7792\\n112     31.6792\\n113      7.2833\\n114    221.7792\\n115     14.4542\\n116      6.4375\\n117     16.7000\\n118     75.2417\\n119     26.0000\\n120     15.7500\\n121      7.7500\\n122     57.7500\\n123      7.2500\\n124      7.7500\\n125     16.1000\\n126      7.7958\\n127     23.2500\\n128     13.0000\\n129      8.0500\\n130      8.0500\\n131     28.5000\\n132     25.4667\\n133      6.4375\\n134      7.8958\\n135      7.8542\\n136      7.2250\\n137     13.0000\\n138      8.0500\\n139     46.9000\\n140     46.9000\\n141    151.5500\\n142    262.3750\\n143     26.0000\\n144     26.5500\\n145     18.0000\\n146     51.8625\\n147      8.0500\\n148     26.5500\\n149     26.0000\\n150     83.1583\\n151      7.8958\\n152      0.0000\\n153     12.1833\\n154     31.3875\\n155      7.5500\\n156    221.7792\\n157      7.8542\\n158     26.5500\\n159     13.7750\\n160      7.7333\\n161     15.2458\\n162     13.5000\\n163      7.0000\\n164     13.0000\\n165     22.0250\\n166     50.4958\\n167     34.3750\\n168     27.7208\\n169      8.9625\\n170      7.5500\\n171      7.2250\\n172     13.9000\\n173      7.2292\\n174     31.3875\\n175     39.0000\\n176     36.7500\\n177     55.4417\\n178     39.0000\\n179     83.1583\\n180     13.0000\\n181     83.1583\\n182     53.1000\\n183      7.7500\\n184    247.5208\\n185     16.0000\\n186     21.0000\\n187      8.0500\\n188     69.5500\\n189     13.0000\\n190     26.0000\\n191     26.0000\\n192     14.5000\\n193     12.3500\\n194     32.5000\\n195      7.8542\\n196    134.5000\\n197      7.7750\\n198     10.5000\\n199      8.1125\\n200     15.5000\\n201     14.4000\\n202    227.5250\\n203     26.0000\\n204     10.5000\\n205     25.7417\\n206      7.7500\\n207     10.5000\\n208     27.7208\\n209      7.8958\\n210     22.5250\\n211      7.0500\\n212     73.5000\\n213     26.0000\\n214      7.7750\\n215     42.5000\\n216      7.8792\\n217    164.8667\\n218    211.5000\\n219      8.0500\\n220     13.8583\\n221      8.0500\\n222     10.5000\\n223      7.7958\\n224     27.4458\\n225     15.2458\\n226      7.7958\\n227      7.7500\\n228     15.1000\\n229     13.0000\\n230     65.0000\\n231     26.5500\\n232      6.4958\\n233      7.8792\\n234     71.2833\\n235      7.8542\\n236     75.2500\\n237      7.2250\\n238     13.0000\\n239    106.4250\\n240     27.7208\\n241     30.0000\\n242    134.5000\\n243      7.8875\\n244     23.4500\\n245     51.8625\\n246     21.0000\\n247     32.5000\\n248     26.0000\\n249     14.4542\\n250     27.7500\\n251      7.9250\\n252    136.7792\\n253      9.3250\\n254      9.5000\\n255      7.5500\\n256      7.7500\\n257      8.0500\\n258     13.0000\\n259      7.7750\\n260     17.4000\\n261      7.8542\\n262     23.0000\\n263     12.1833\\n264     12.7375\\n265      7.8958\\n266      0.0000\\n267      7.5500\\n268      8.0500\\n269      8.6625\\n270     75.2417\\n271      7.7500\\n272    136.7792\\n273     15.5000\\n274      7.2250\\n275     26.0000\\n276     10.5000\\n277     26.0000\\n278     21.0000\\n279     10.5000\\n280      8.6625\\n281     13.7750\\n282      7.7500\\n283     15.2458\\n284     20.2125\\n285      7.2500\\n286      7.2500\\n287     82.2667\\n288      7.2292\\n289      8.0500\\n290     39.6000\\n291      6.9500\\n292      7.2292\\n293     81.8583\\n294      9.5000\\n295      7.8958\\n296     41.5792\\n297     21.6792\\n298     45.5000\\n299      7.8542\\n300      7.7750\\n301     15.0458\\n302     21.0000\\n303      8.6625\\n304      7.7500\\n305     26.5500\\n306    151.5500\\n307      9.3500\\n308     93.5000\\n309     14.1083\\n310      8.6625\\n311      7.2250\\n312      7.5750\\n313      7.7500\\n314    135.6333\\n315      7.7333\\n316    146.5208\\n317     10.5000\\n318      7.8542\\n319     31.5000\\n320      7.7750\\n321      7.2292\\n322     13.0000\\n323     26.5500\\n324    211.3375\\n325      7.0500\\n326     39.0000\\n327     79.2000\\n328     26.0000\\n329     13.0000\\n330     36.7500\\n331     29.7000\\n332      7.2250\\n333     15.7417\\n334      7.8958\\n335     26.0000\\n336     13.0000\\n337      7.2292\\n338     31.5000\\n339      7.2292\\n340     10.5000\\n341      7.5792\\n342     69.5500\\n343    512.3292\\n344     14.5000\\n345      7.6500\\n346     13.0000\\n347      7.2292\\n348     13.5000\\n349     21.0000\\n350     63.3583\\n351     10.5000\\n352     73.5000\\n353     65.0000\\n354     20.5750\\n355     26.0000\\n356     51.4792\\n357      7.8792\\n358      7.7500\\n359     15.5500\\n360     69.5500\\n361     37.0042\\n362     21.0000\\n363      8.6625\\n364     55.4417\\n365     69.5500\\n366     14.4583\\n367     39.6875\\n368     59.4000\\n369     13.8583\\n370     11.5000\\n371    134.5000\\n372      0.0000\\n373     13.0000\\n374     81.8583\\n375    262.3750\\n376      8.6625\\n377     11.5000\\n378     50.0000\\n379     31.3875\\n380      7.7500\\n381      7.8792\\n382     14.5000\\n383     16.1000\\n384     12.8750\\n385     65.0000\\n386      7.7750\\n387     13.0000\\n388      7.7500\\n389     21.0750\\n390     93.5000\\n391     39.4000\\n392     20.2500\\n393     10.5000\\n394     22.0250\\n395     60.0000\\n396      7.2500\\n397     79.2000\\n398      7.7750\\n399      7.7333\\n400    164.8667\\n401     21.0000\\n402     59.4000\\n403     47.1000\\n404     27.7208\\n405     13.8625\\n406     10.5000\\n407    211.5000\\n408      7.7208\\n409     13.7750\\n410      7.7500\\n411     90.0000\\n412      7.7750\\n413      8.0500\\n414    108.9000\\n415      7.2500\\n416      8.0500\\n417     22.3583'"
     },
     "metadata": {},
     "execution_count": 22
    }
   ],
   "source": [
    "df_fixed['Fare'].to_string()"
   ]
  },
  {
   "cell_type": "code",
   "execution_count": 24,
   "metadata": {},
   "outputs": [
    {
     "output_type": "error",
     "ename": "SyntaxError",
     "evalue": "invalid syntax (<ipython-input-24-379d2b326c16>, line 1)",
     "traceback": [
      "\u001b[0;36m  File \u001b[0;32m\"<ipython-input-24-379d2b326c16>\"\u001b[0;36m, line \u001b[0;32m1\u001b[0m\n\u001b[0;31m    result =  for x in df_fixed['Fare']\u001b[0m\n\u001b[0m                ^\u001b[0m\n\u001b[0;31mSyntaxError\u001b[0m\u001b[0;31m:\u001b[0m invalid syntax\n"
     ]
    }
   ],
   "source": [
    "result =  for x in df_fixed['Fare']\n"
   ]
  },
  {
   "cell_type": "code",
   "execution_count": 26,
   "metadata": {},
   "outputs": [],
   "source": [
    "for rowindex, row in df_fixed.iterrows():\n",
    "    i+=1"
   ]
  },
  {
   "cell_type": "code",
   "execution_count": null,
   "metadata": {},
   "outputs": [],
   "source": []
  }
 ],
 "metadata": {
  "kernelspec": {
   "display_name": "Python 3",
   "language": "python",
   "name": "python3"
  },
  "language_info": {
   "codemirror_mode": {
    "name": "ipython",
    "version": 3
   },
   "file_extension": ".py",
   "mimetype": "text/x-python",
   "name": "python",
   "nbconvert_exporter": "python",
   "pygments_lexer": "ipython3",
   "version": "3.7.4-final"
  }
 },
 "nbformat": 4,
 "nbformat_minor": 2
}