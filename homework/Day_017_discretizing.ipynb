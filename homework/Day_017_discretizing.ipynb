{
 "cells": [
  {
   "cell_type": "markdown",
   "metadata": {
    "collapsed": true
   },
   "source": [
    "# [教學目標]\n",
    "- 以下程式碼將示範在 python 如何利用 pandas.cut 與 .qcut 計算出數據的離散化標籤"
   ]
  },
  {
   "cell_type": "markdown",
   "metadata": {
    "collapsed": true
   },
   "source": [
    "# [範例重點]\n",
    "- pandas.cut 的等寬劃分效果 (In[3], Out[4])\n",
    "- pandas.qcut 的等頻劃分效果 (In[5], Out[6])"
   ]
  },
  {
   "cell_type": "code",
   "execution_count": 1,
   "metadata": {
    "collapsed": true
   },
   "outputs": [],
   "source": [
    "# 載入套件\n",
    "import os\n",
    "import numpy as np\n",
    "import pandas as pd\n",
    "\n",
    "import matplotlib.pyplot as plt\n",
    "%matplotlib inline"
   ]
  },
  {
   "cell_type": "code",
   "execution_count": 29,
   "metadata": {
    "collapsed": true
   },
   "outputs": [],
   "source": [
    "# 初始設定 Ages 的資料\n",
    "ages = pd.DataFrame({\"age\": [10,18,22,25,27,7,21,23,37,30,61,45,41,9,18,80,100]})"
   ]
  },
  {
   "cell_type": "markdown",
   "metadata": {},
   "source": [
    "#### 等寬劃分"
   ]
  },
  {
   "cell_type": "code",
   "execution_count": 30,
   "metadata": {
    "collapsed": true
   },
   "outputs": [
    {
     "output_type": "execute_result",
     "data": {
      "text/plain": "0     (6.907, 30.25]\n1     (6.907, 30.25]\n2     (6.907, 30.25]\n3     (6.907, 30.25]\n4     (6.907, 30.25]\n5     (6.907, 30.25]\n6     (6.907, 30.25]\n7     (6.907, 30.25]\n8      (30.25, 53.5]\n9     (6.907, 30.25]\n10     (53.5, 76.75]\n11     (30.25, 53.5]\n12     (30.25, 53.5]\n13    (6.907, 30.25]\n14    (6.907, 30.25]\n15    (76.75, 100.0]\n16    (76.75, 100.0]\nName: equal_width_age, dtype: category\nCategories (4, interval[float64]): [(6.907, 30.25] < (30.25, 53.5] < (53.5, 76.75] < (76.75, 100.0]]"
     },
     "metadata": {},
     "execution_count": 30
    }
   ],
   "source": [
    "# 新增欄位 \"equal_width_age\", 對年齡做等寬劃分\n",
    "ages[\"equal_width_age\"] = pd.cut(ages[\"age\"], 4)\n",
    "ages[\"equal_width_age\"]"
   ]
  },
  {
   "cell_type": "code",
   "execution_count": 31,
   "metadata": {},
   "outputs": [
    {
     "output_type": "execute_result",
     "data": {
      "text/plain": "(6.907, 30.25]    11\n(30.25, 53.5]      3\n(76.75, 100.0]     2\n(53.5, 76.75]      1\nName: equal_width_age, dtype: int64"
     },
     "metadata": {},
     "execution_count": 31
    }
   ],
   "source": [
    "# 觀察等寬劃分下, 每個種組距各出現幾次\n",
    "ages[\"equal_width_age\"].value_counts() # 每個 bin 的值的範圍大小都是一樣的"
   ]
  },
  {
   "cell_type": "markdown",
   "metadata": {},
   "source": [
    "#### 等頻劃分"
   ]
  },
  {
   "cell_type": "code",
   "execution_count": 32,
   "metadata": {
    "collapsed": true
   },
   "outputs": [
    {
     "output_type": "execute_result",
     "data": {
      "text/plain": "0     (6.999, 18.0]\n1     (6.999, 18.0]\n2      (18.0, 25.0]\n3      (18.0, 25.0]\n4      (25.0, 41.0]\n5     (6.999, 18.0]\n6      (18.0, 25.0]\n7      (18.0, 25.0]\n8      (25.0, 41.0]\n9      (25.0, 41.0]\n10    (41.0, 100.0]\n11    (41.0, 100.0]\n12     (25.0, 41.0]\n13    (6.999, 18.0]\n14    (6.999, 18.0]\n15    (41.0, 100.0]\n16    (41.0, 100.0]\nName: equal_freq_age, dtype: category\nCategories (4, interval[float64]): [(6.999, 18.0] < (18.0, 25.0] < (25.0, 41.0] < (41.0, 100.0]]"
     },
     "metadata": {},
     "execution_count": 32
    }
   ],
   "source": [
    "# 新增欄位 \"equal_freq_age\", 對年齡做等頻劃分\n",
    "ages[\"equal_freq_age\"] = pd.qcut(ages[\"age\"], 4)\n",
    "ages[\"equal_freq_age\"]"
   ]
  },
  {
   "cell_type": "code",
   "execution_count": 33,
   "metadata": {},
   "outputs": [
    {
     "output_type": "execute_result",
     "data": {
      "text/plain": "(6.999, 18.0]    5\n(41.0, 100.0]    4\n(25.0, 41.0]     4\n(18.0, 25.0]     4\nName: equal_freq_age, dtype: int64"
     },
     "metadata": {},
     "execution_count": 33
    }
   ],
   "source": [
    "# 觀察等頻劃分下, 每個種組距各出現幾次\n",
    "ages[\"equal_freq_age\"].value_counts() # 每個 bin 的資料筆數是一樣的"
   ]
  },
  {
   "cell_type": "markdown",
   "metadata": {},
   "source": [
    "### 作業\n",
    "新增一個欄位 `customized_age_grp`，把 `age` 分為 (0, 10], (10, 20], (20, 30], (30, 50], (50, 100] 這五組，'(' 表示不包含, ']' 表示包含\n",
    "\n",
    "Hints: 執行 ??pd.cut()，了解提供其中 bins 這個參數的使用方式"
   ]
  },
  {
   "cell_type": "code",
   "execution_count": 34,
   "metadata": {
    "collapsed": true
   },
   "outputs": [
    {
     "output_type": "execute_result",
     "data": {
      "text/plain": "    age equal_width_age equal_freq_age customized_age_grp\n0    10  (6.907, 30.25]  (6.999, 18.0]            (0, 10]\n1    18  (6.907, 30.25]  (6.999, 18.0]           (10, 20]\n2    22  (6.907, 30.25]   (18.0, 25.0]           (20, 30]\n3    25  (6.907, 30.25]   (18.0, 25.0]           (20, 30]\n4    27  (6.907, 30.25]   (25.0, 41.0]           (20, 30]\n5     7  (6.907, 30.25]  (6.999, 18.0]            (0, 10]\n6    21  (6.907, 30.25]   (18.0, 25.0]           (20, 30]\n7    23  (6.907, 30.25]   (18.0, 25.0]           (20, 30]\n8    37   (30.25, 53.5]   (25.0, 41.0]           (30, 50]\n9    30  (6.907, 30.25]   (25.0, 41.0]           (20, 30]\n10   61   (53.5, 76.75]  (41.0, 100.0]          (50, 100]\n11   45   (30.25, 53.5]  (41.0, 100.0]           (30, 50]\n12   41   (30.25, 53.5]   (25.0, 41.0]           (30, 50]\n13    9  (6.907, 30.25]  (6.999, 18.0]            (0, 10]\n14   18  (6.907, 30.25]  (6.999, 18.0]           (10, 20]\n15   80  (76.75, 100.0]  (41.0, 100.0]          (50, 100]\n16  100  (76.75, 100.0]  (41.0, 100.0]          (50, 100]",
      "text/html": "<div>\n<style scoped>\n    .dataframe tbody tr th:only-of-type {\n        vertical-align: middle;\n    }\n\n    .dataframe tbody tr th {\n        vertical-align: top;\n    }\n\n    .dataframe thead th {\n        text-align: right;\n    }\n</style>\n<table border=\"1\" class=\"dataframe\">\n  <thead>\n    <tr style=\"text-align: right;\">\n      <th></th>\n      <th>age</th>\n      <th>equal_width_age</th>\n      <th>equal_freq_age</th>\n      <th>customized_age_grp</th>\n    </tr>\n  </thead>\n  <tbody>\n    <tr>\n      <td>0</td>\n      <td>10</td>\n      <td>(6.907, 30.25]</td>\n      <td>(6.999, 18.0]</td>\n      <td>(0, 10]</td>\n    </tr>\n    <tr>\n      <td>1</td>\n      <td>18</td>\n      <td>(6.907, 30.25]</td>\n      <td>(6.999, 18.0]</td>\n      <td>(10, 20]</td>\n    </tr>\n    <tr>\n      <td>2</td>\n      <td>22</td>\n      <td>(6.907, 30.25]</td>\n      <td>(18.0, 25.0]</td>\n      <td>(20, 30]</td>\n    </tr>\n    <tr>\n      <td>3</td>\n      <td>25</td>\n      <td>(6.907, 30.25]</td>\n      <td>(18.0, 25.0]</td>\n      <td>(20, 30]</td>\n    </tr>\n    <tr>\n      <td>4</td>\n      <td>27</td>\n      <td>(6.907, 30.25]</td>\n      <td>(25.0, 41.0]</td>\n      <td>(20, 30]</td>\n    </tr>\n    <tr>\n      <td>5</td>\n      <td>7</td>\n      <td>(6.907, 30.25]</td>\n      <td>(6.999, 18.0]</td>\n      <td>(0, 10]</td>\n    </tr>\n    <tr>\n      <td>6</td>\n      <td>21</td>\n      <td>(6.907, 30.25]</td>\n      <td>(18.0, 25.0]</td>\n      <td>(20, 30]</td>\n    </tr>\n    <tr>\n      <td>7</td>\n      <td>23</td>\n      <td>(6.907, 30.25]</td>\n      <td>(18.0, 25.0]</td>\n      <td>(20, 30]</td>\n    </tr>\n    <tr>\n      <td>8</td>\n      <td>37</td>\n      <td>(30.25, 53.5]</td>\n      <td>(25.0, 41.0]</td>\n      <td>(30, 50]</td>\n    </tr>\n    <tr>\n      <td>9</td>\n      <td>30</td>\n      <td>(6.907, 30.25]</td>\n      <td>(25.0, 41.0]</td>\n      <td>(20, 30]</td>\n    </tr>\n    <tr>\n      <td>10</td>\n      <td>61</td>\n      <td>(53.5, 76.75]</td>\n      <td>(41.0, 100.0]</td>\n      <td>(50, 100]</td>\n    </tr>\n    <tr>\n      <td>11</td>\n      <td>45</td>\n      <td>(30.25, 53.5]</td>\n      <td>(41.0, 100.0]</td>\n      <td>(30, 50]</td>\n    </tr>\n    <tr>\n      <td>12</td>\n      <td>41</td>\n      <td>(30.25, 53.5]</td>\n      <td>(25.0, 41.0]</td>\n      <td>(30, 50]</td>\n    </tr>\n    <tr>\n      <td>13</td>\n      <td>9</td>\n      <td>(6.907, 30.25]</td>\n      <td>(6.999, 18.0]</td>\n      <td>(0, 10]</td>\n    </tr>\n    <tr>\n      <td>14</td>\n      <td>18</td>\n      <td>(6.907, 30.25]</td>\n      <td>(6.999, 18.0]</td>\n      <td>(10, 20]</td>\n    </tr>\n    <tr>\n      <td>15</td>\n      <td>80</td>\n      <td>(76.75, 100.0]</td>\n      <td>(41.0, 100.0]</td>\n      <td>(50, 100]</td>\n    </tr>\n    <tr>\n      <td>16</td>\n      <td>100</td>\n      <td>(76.75, 100.0]</td>\n      <td>(41.0, 100.0]</td>\n      <td>(50, 100]</td>\n    </tr>\n  </tbody>\n</table>\n</div>"
     },
     "metadata": {},
     "execution_count": 34
    }
   ],
   "source": [
    "bins = [0,10, 20, 30, 50, 100]\n",
    "ages[\"customized_age_grp\"] = pd.cut(ages[\"age\"],bins)\n",
    "ages[\"customized_age_grp\"].value_counts()\n",
    "ages"
   ]
  },
  {
   "cell_type": "code",
   "execution_count": null,
   "metadata": {},
   "outputs": [],
   "source": []
  }
 ],
 "metadata": {
  "kernelspec": {
   "display_name": "Python 3",
   "language": "python",
   "name": "python3"
  },
  "language_info": {
   "codemirror_mode": {
    "name": "ipython",
    "version": 3
   },
   "file_extension": ".py",
   "mimetype": "text/x-python",
   "name": "python",
   "nbconvert_exporter": "python",
   "pygments_lexer": "ipython3",
   "version": "3.7.0"
  }
 },
 "nbformat": 4,
 "nbformat_minor": 2
}