{
 "cells": [
  {
   "cell_type": "markdown",
   "metadata": {
    "collapsed": true
   },
   "source": [
    "# 範例 : (Kaggle)房價預測\n",
    "***\n",
    "- 以下用房價預測資料, 觀查標籤編碼與獨編碼熱的影響"
   ]
  },
  {
   "cell_type": "markdown",
   "metadata": {},
   "source": [
    "# [教學目標]\n",
    "- 以下用房價預測資料, 觀查標籤編碼與獨編碼熱的影響"
   ]
  },
  {
   "cell_type": "markdown",
   "metadata": {},
   "source": [
    "# [範例重點]\n",
    "- 觀察標籤編碼與獨熱編碼, 在特徵數量 / 線性迴歸分數 / 線性迴歸時間上, 分別有什麼影響 (In[3], Out[3], In[4], Out[4]\n",
    "- 觀察標籤編碼與獨熱編碼, 在特徵數量 / 梯度提升樹分數 / 梯度提升樹時間上, 分別有什麼影響 (In[5], Out[5], In[6], Out[6]) "
   ]
  },
  {
   "cell_type": "code",
   "execution_count": 1,
   "metadata": {},
   "outputs": [
    {
     "output_type": "execute_result",
     "data": {
      "text/plain": "   MSSubClass MSZoning  LotFrontage  LotArea Street Alley LotShape  \\\n0          60       RL         65.0     8450   Pave   NaN      Reg   \n1          20       RL         80.0     9600   Pave   NaN      Reg   \n2          60       RL         68.0    11250   Pave   NaN      IR1   \n3          70       RL         60.0     9550   Pave   NaN      IR1   \n4          60       RL         84.0    14260   Pave   NaN      IR1   \n\n  LandContour Utilities LotConfig  ... ScreenPorch PoolArea PoolQC Fence  \\\n0         Lvl    AllPub    Inside  ...           0        0    NaN   NaN   \n1         Lvl    AllPub       FR2  ...           0        0    NaN   NaN   \n2         Lvl    AllPub    Inside  ...           0        0    NaN   NaN   \n3         Lvl    AllPub    Corner  ...           0        0    NaN   NaN   \n4         Lvl    AllPub       FR2  ...           0        0    NaN   NaN   \n\n  MiscFeature MiscVal  MoSold  YrSold  SaleType  SaleCondition  \n0         NaN       0       2    2008        WD         Normal  \n1         NaN       0       5    2007        WD         Normal  \n2         NaN       0       9    2008        WD         Normal  \n3         NaN       0       2    2006        WD        Abnorml  \n4         NaN       0      12    2008        WD         Normal  \n\n[5 rows x 79 columns]",
      "text/html": "<div>\n<style scoped>\n    .dataframe tbody tr th:only-of-type {\n        vertical-align: middle;\n    }\n\n    .dataframe tbody tr th {\n        vertical-align: top;\n    }\n\n    .dataframe thead th {\n        text-align: right;\n    }\n</style>\n<table border=\"1\" class=\"dataframe\">\n  <thead>\n    <tr style=\"text-align: right;\">\n      <th></th>\n      <th>MSSubClass</th>\n      <th>MSZoning</th>\n      <th>LotFrontage</th>\n      <th>LotArea</th>\n      <th>Street</th>\n      <th>Alley</th>\n      <th>LotShape</th>\n      <th>LandContour</th>\n      <th>Utilities</th>\n      <th>LotConfig</th>\n      <th>...</th>\n      <th>ScreenPorch</th>\n      <th>PoolArea</th>\n      <th>PoolQC</th>\n      <th>Fence</th>\n      <th>MiscFeature</th>\n      <th>MiscVal</th>\n      <th>MoSold</th>\n      <th>YrSold</th>\n      <th>SaleType</th>\n      <th>SaleCondition</th>\n    </tr>\n  </thead>\n  <tbody>\n    <tr>\n      <td>0</td>\n      <td>60</td>\n      <td>RL</td>\n      <td>65.0</td>\n      <td>8450</td>\n      <td>Pave</td>\n      <td>NaN</td>\n      <td>Reg</td>\n      <td>Lvl</td>\n      <td>AllPub</td>\n      <td>Inside</td>\n      <td>...</td>\n      <td>0</td>\n      <td>0</td>\n      <td>NaN</td>\n      <td>NaN</td>\n      <td>NaN</td>\n      <td>0</td>\n      <td>2</td>\n      <td>2008</td>\n      <td>WD</td>\n      <td>Normal</td>\n    </tr>\n    <tr>\n      <td>1</td>\n      <td>20</td>\n      <td>RL</td>\n      <td>80.0</td>\n      <td>9600</td>\n      <td>Pave</td>\n      <td>NaN</td>\n      <td>Reg</td>\n      <td>Lvl</td>\n      <td>AllPub</td>\n      <td>FR2</td>\n      <td>...</td>\n      <td>0</td>\n      <td>0</td>\n      <td>NaN</td>\n      <td>NaN</td>\n      <td>NaN</td>\n      <td>0</td>\n      <td>5</td>\n      <td>2007</td>\n      <td>WD</td>\n      <td>Normal</td>\n    </tr>\n    <tr>\n      <td>2</td>\n      <td>60</td>\n      <td>RL</td>\n      <td>68.0</td>\n      <td>11250</td>\n      <td>Pave</td>\n      <td>NaN</td>\n      <td>IR1</td>\n      <td>Lvl</td>\n      <td>AllPub</td>\n      <td>Inside</td>\n      <td>...</td>\n      <td>0</td>\n      <td>0</td>\n      <td>NaN</td>\n      <td>NaN</td>\n      <td>NaN</td>\n      <td>0</td>\n      <td>9</td>\n      <td>2008</td>\n      <td>WD</td>\n      <td>Normal</td>\n    </tr>\n    <tr>\n      <td>3</td>\n      <td>70</td>\n      <td>RL</td>\n      <td>60.0</td>\n      <td>9550</td>\n      <td>Pave</td>\n      <td>NaN</td>\n      <td>IR1</td>\n      <td>Lvl</td>\n      <td>AllPub</td>\n      <td>Corner</td>\n      <td>...</td>\n      <td>0</td>\n      <td>0</td>\n      <td>NaN</td>\n      <td>NaN</td>\n      <td>NaN</td>\n      <td>0</td>\n      <td>2</td>\n      <td>2006</td>\n      <td>WD</td>\n      <td>Abnorml</td>\n    </tr>\n    <tr>\n      <td>4</td>\n      <td>60</td>\n      <td>RL</td>\n      <td>84.0</td>\n      <td>14260</td>\n      <td>Pave</td>\n      <td>NaN</td>\n      <td>IR1</td>\n      <td>Lvl</td>\n      <td>AllPub</td>\n      <td>FR2</td>\n      <td>...</td>\n      <td>0</td>\n      <td>0</td>\n      <td>NaN</td>\n      <td>NaN</td>\n      <td>NaN</td>\n      <td>0</td>\n      <td>12</td>\n      <td>2008</td>\n      <td>WD</td>\n      <td>Normal</td>\n    </tr>\n  </tbody>\n</table>\n<p>5 rows × 79 columns</p>\n</div>"
     },
     "metadata": {},
     "execution_count": 1
    }
   ],
   "source": [
    "# 做完特徵工程前的所有準備\n",
    "import pandas as pd\n",
    "import numpy as np\n",
    "import copy, time\n",
    "from sklearn.preprocessing import MinMaxScaler\n",
    "from sklearn.model_selection import cross_val_score\n",
    "from sklearn.linear_model import LinearRegression\n",
    "from sklearn.ensemble import GradientBoostingRegressor\n",
    "from sklearn.preprocessing import LabelEncoder\n",
    "\n",
    "data_path = '/Users/seanhung06/Documents/GitHub/Data/'\n",
    "df_train = pd.read_csv(data_path + 'house_train.csv.gz')\n",
    "df_test = pd.read_csv(data_path + 'house_test.csv.gz')\n",
    "\n",
    "train_Y = np.log1p(df_train['SalePrice'])\n",
    "ids = df_test['Id']\n",
    "df_train = df_train.drop(['Id', 'SalePrice'] , axis=1)\n",
    "df_test = df_test.drop(['Id'] , axis=1)\n",
    "df = pd.concat([df_train,df_test])\n",
    "df.head()"
   ]
  },
  {
   "cell_type": "code",
   "execution_count": 4,
   "metadata": {
    "tags": []
   },
   "outputs": [
    {
     "output_type": "stream",
     "name": "stdout",
     "text": "<class 'type'> MSZoning\n<class 'type'> Street\n<class 'type'> Alley\n<class 'type'> LotShape\n<class 'type'> LandContour\n<class 'type'> Utilities\n<class 'type'> LotConfig\n<class 'type'> LandSlope\n<class 'type'> Neighborhood\n<class 'type'> Condition1\n<class 'type'> Condition2\n<class 'type'> BldgType\n<class 'type'> HouseStyle\n<class 'type'> RoofStyle\n<class 'type'> RoofMatl\n<class 'type'> Exterior1st\n<class 'type'> Exterior2nd\n<class 'type'> MasVnrType\n<class 'type'> ExterQual\n<class 'type'> ExterCond\n<class 'type'> Foundation\n<class 'type'> BsmtQual\n<class 'type'> BsmtCond\n<class 'type'> BsmtExposure\n<class 'type'> BsmtFinType1\n<class 'type'> BsmtFinType2\n<class 'type'> Heating\n<class 'type'> HeatingQC\n<class 'type'> CentralAir\n<class 'type'> Electrical\n<class 'type'> KitchenQual\n<class 'type'> Functional\n<class 'type'> FireplaceQu\n<class 'type'> GarageType\n<class 'type'> GarageFinish\n<class 'type'> GarageQual\n<class 'type'> GarageCond\n<class 'type'> PavedDrive\n<class 'type'> PoolQC\n<class 'type'> Fence\n<class 'type'> MiscFeature\n<class 'type'> SaleType\n<class 'type'> SaleCondition\n"
    }
   ],
   "source": [
    "for dtype, feature in zip(df.dtypes, df.columns):\n",
    "    print(type, feature)"
   ]
  },
  {
   "cell_type": "code",
   "execution_count": 2,
   "metadata": {
    "tags": []
   },
   "outputs": [
    {
     "output_type": "stream",
     "name": "stdout",
     "text": "43 Object Features : ['MSZoning', 'Street', 'Alley', 'LotShape', 'LandContour', 'Utilities', 'LotConfig', 'LandSlope', 'Neighborhood', 'Condition1', 'Condition2', 'BldgType', 'HouseStyle', 'RoofStyle', 'RoofMatl', 'Exterior1st', 'Exterior2nd', 'MasVnrType', 'ExterQual', 'ExterCond', 'Foundation', 'BsmtQual', 'BsmtCond', 'BsmtExposure', 'BsmtFinType1', 'BsmtFinType2', 'Heating', 'HeatingQC', 'CentralAir', 'Electrical', 'KitchenQual', 'Functional', 'FireplaceQu', 'GarageType', 'GarageFinish', 'GarageQual', 'GarageCond', 'PavedDrive', 'PoolQC', 'Fence', 'MiscFeature', 'SaleType', 'SaleCondition']\n\n"
    },
    {
     "output_type": "execute_result",
     "data": {
      "text/plain": "  MSZoning Street Alley LotShape LandContour Utilities LotConfig LandSlope  \\\n0       RL   Pave  None      Reg         Lvl    AllPub    Inside       Gtl   \n1       RL   Pave  None      Reg         Lvl    AllPub       FR2       Gtl   \n2       RL   Pave  None      IR1         Lvl    AllPub    Inside       Gtl   \n3       RL   Pave  None      IR1         Lvl    AllPub    Corner       Gtl   \n4       RL   Pave  None      IR1         Lvl    AllPub       FR2       Gtl   \n\n  Neighborhood Condition1  ... GarageType GarageFinish GarageQual GarageCond  \\\n0      CollgCr       Norm  ...     Attchd          RFn         TA         TA   \n1      Veenker      Feedr  ...     Attchd          RFn         TA         TA   \n2      CollgCr       Norm  ...     Attchd          RFn         TA         TA   \n3      Crawfor       Norm  ...     Detchd          Unf         TA         TA   \n4      NoRidge       Norm  ...     Attchd          RFn         TA         TA   \n\n  PavedDrive PoolQC Fence MiscFeature SaleType SaleCondition  \n0          Y   None  None        None       WD        Normal  \n1          Y   None  None        None       WD        Normal  \n2          Y   None  None        None       WD        Normal  \n3          Y   None  None        None       WD       Abnorml  \n4          Y   None  None        None       WD        Normal  \n\n[5 rows x 43 columns]",
      "text/html": "<div>\n<style scoped>\n    .dataframe tbody tr th:only-of-type {\n        vertical-align: middle;\n    }\n\n    .dataframe tbody tr th {\n        vertical-align: top;\n    }\n\n    .dataframe thead th {\n        text-align: right;\n    }\n</style>\n<table border=\"1\" class=\"dataframe\">\n  <thead>\n    <tr style=\"text-align: right;\">\n      <th></th>\n      <th>MSZoning</th>\n      <th>Street</th>\n      <th>Alley</th>\n      <th>LotShape</th>\n      <th>LandContour</th>\n      <th>Utilities</th>\n      <th>LotConfig</th>\n      <th>LandSlope</th>\n      <th>Neighborhood</th>\n      <th>Condition1</th>\n      <th>...</th>\n      <th>GarageType</th>\n      <th>GarageFinish</th>\n      <th>GarageQual</th>\n      <th>GarageCond</th>\n      <th>PavedDrive</th>\n      <th>PoolQC</th>\n      <th>Fence</th>\n      <th>MiscFeature</th>\n      <th>SaleType</th>\n      <th>SaleCondition</th>\n    </tr>\n  </thead>\n  <tbody>\n    <tr>\n      <td>0</td>\n      <td>RL</td>\n      <td>Pave</td>\n      <td>None</td>\n      <td>Reg</td>\n      <td>Lvl</td>\n      <td>AllPub</td>\n      <td>Inside</td>\n      <td>Gtl</td>\n      <td>CollgCr</td>\n      <td>Norm</td>\n      <td>...</td>\n      <td>Attchd</td>\n      <td>RFn</td>\n      <td>TA</td>\n      <td>TA</td>\n      <td>Y</td>\n      <td>None</td>\n      <td>None</td>\n      <td>None</td>\n      <td>WD</td>\n      <td>Normal</td>\n    </tr>\n    <tr>\n      <td>1</td>\n      <td>RL</td>\n      <td>Pave</td>\n      <td>None</td>\n      <td>Reg</td>\n      <td>Lvl</td>\n      <td>AllPub</td>\n      <td>FR2</td>\n      <td>Gtl</td>\n      <td>Veenker</td>\n      <td>Feedr</td>\n      <td>...</td>\n      <td>Attchd</td>\n      <td>RFn</td>\n      <td>TA</td>\n      <td>TA</td>\n      <td>Y</td>\n      <td>None</td>\n      <td>None</td>\n      <td>None</td>\n      <td>WD</td>\n      <td>Normal</td>\n    </tr>\n    <tr>\n      <td>2</td>\n      <td>RL</td>\n      <td>Pave</td>\n      <td>None</td>\n      <td>IR1</td>\n      <td>Lvl</td>\n      <td>AllPub</td>\n      <td>Inside</td>\n      <td>Gtl</td>\n      <td>CollgCr</td>\n      <td>Norm</td>\n      <td>...</td>\n      <td>Attchd</td>\n      <td>RFn</td>\n      <td>TA</td>\n      <td>TA</td>\n      <td>Y</td>\n      <td>None</td>\n      <td>None</td>\n      <td>None</td>\n      <td>WD</td>\n      <td>Normal</td>\n    </tr>\n    <tr>\n      <td>3</td>\n      <td>RL</td>\n      <td>Pave</td>\n      <td>None</td>\n      <td>IR1</td>\n      <td>Lvl</td>\n      <td>AllPub</td>\n      <td>Corner</td>\n      <td>Gtl</td>\n      <td>Crawfor</td>\n      <td>Norm</td>\n      <td>...</td>\n      <td>Detchd</td>\n      <td>Unf</td>\n      <td>TA</td>\n      <td>TA</td>\n      <td>Y</td>\n      <td>None</td>\n      <td>None</td>\n      <td>None</td>\n      <td>WD</td>\n      <td>Abnorml</td>\n    </tr>\n    <tr>\n      <td>4</td>\n      <td>RL</td>\n      <td>Pave</td>\n      <td>None</td>\n      <td>IR1</td>\n      <td>Lvl</td>\n      <td>AllPub</td>\n      <td>FR2</td>\n      <td>Gtl</td>\n      <td>NoRidge</td>\n      <td>Norm</td>\n      <td>...</td>\n      <td>Attchd</td>\n      <td>RFn</td>\n      <td>TA</td>\n      <td>TA</td>\n      <td>Y</td>\n      <td>None</td>\n      <td>None</td>\n      <td>None</td>\n      <td>WD</td>\n      <td>Normal</td>\n    </tr>\n  </tbody>\n</table>\n<p>5 rows × 43 columns</p>\n</div>"
     },
     "metadata": {},
     "execution_count": 2
    }
   ],
   "source": [
    "#只取類別值 (object) 型欄位, 存於 object_features 中\n",
    "object_features = []\n",
    "for dtype, feature in zip(df.dtypes, df.columns):\n",
    "    if dtype == 'object':\n",
    "        object_features.append(feature)\n",
    "print(f'{len(object_features)} Object Features : {object_features}\\n')\n",
    "\n",
    "# 只留類別型欄位\n",
    "df = df[object_features]\n",
    "df = df.fillna('None')\n",
    "train_num = train_Y.shape[0]\n",
    "df.head()"
   ]
  },
  {
   "cell_type": "code",
   "execution_count": 5,
   "metadata": {
    "tags": []
   },
   "outputs": [
    {
     "output_type": "stream",
     "name": "stdout",
     "text": "shape : (1460, 43)\nscore : 0.6615606866851301\ntime : 0.18383193016052246 sec\n"
    }
   ],
   "source": [
    "# 標籤編碼 + 線性迴歸\n",
    "df_temp = pd.DataFrame()\n",
    "for c in df.columns:\n",
    "    df_temp[c] = LabelEncoder().fit_transform(df[c])\n",
    "train_X = df_temp[:train_num]\n",
    "estimator = LinearRegression()\n",
    "start = time.time()\n",
    "print(f'shape : {train_X.shape}')\n",
    "print(f'score : {cross_val_score(estimator, train_X, train_Y, cv=5).mean()}')\n",
    "print(f'time : {time.time() - start} sec')"
   ]
  },
  {
   "cell_type": "code",
   "execution_count": 7,
   "metadata": {
    "tags": []
   },
   "outputs": [
    {
     "output_type": "stream",
     "name": "stdout",
     "text": "shape : (1460, 274)\nscore : -7.147129671268883e+22\ntime : 0.1606450080871582 sec\n"
    }
   ],
   "source": [
    "# 獨熱編碼 + 線性迴歸\n",
    "df_temp = pd.get_dummies(df)\n",
    "train_X = df_temp[:train_num]\n",
    "estimator = LinearRegression()\n",
    "start = time.time()\n",
    "print(f'shape : {train_X.shape}')\n",
    "print(f'score : {cross_val_score(estimator, train_X, train_Y, cv=5).mean()}')\n",
    "print(f'time : {time.time() - start} sec')"
   ]
  },
  {
   "cell_type": "code",
   "execution_count": 8,
   "metadata": {
    "tags": []
   },
   "outputs": [
    {
     "output_type": "stream",
     "name": "stdout",
     "text": "shape : (1460, 43)\nscore : 0.7776818628025881\ntime : 0.9971590042114258 sec\n"
    }
   ],
   "source": [
    "# 標籤編碼 + 梯度提升樹\n",
    "df_temp = pd.DataFrame()\n",
    "for c in df.columns:\n",
    "    df_temp[c] = LabelEncoder().fit_transform(df[c])\n",
    "train_X = df_temp[:train_num]\n",
    "estimator = GradientBoostingRegressor()\n",
    "start = time.time()\n",
    "print(f'shape : {train_X.shape}')\n",
    "print(f'score : {cross_val_score(estimator, train_X, train_Y, cv=5).mean()}')\n",
    "print(f'time : {time.time() - start} sec')"
   ]
  },
  {
   "cell_type": "code",
   "execution_count": 10,
   "metadata": {
    "tags": []
   },
   "outputs": [
    {
     "output_type": "stream",
     "name": "stdout",
     "text": "shape : (1460, 274)\nscore : 0.7916160520048325\ntime : 3.3003268241882324 sec\n"
    }
   ],
   "source": [
    "# 獨熱編碼 + 梯度提升樹\n",
    "df_temp = pd.get_dummies(df)\n",
    "train_X = df_temp[:train_num]\n",
    "estimator = GradientBoostingRegressor()\n",
    "start = time.time()\n",
    "print(f'shape : {train_X.shape}')\n",
    "print(f'score : {cross_val_score(estimator, train_X, train_Y, cv=5).mean()}')\n",
    "print(f'time : {time.time() - start} sec')"
   ]
  },
  {
   "cell_type": "markdown",
   "metadata": {
    "collapsed": true
   },
   "source": [
    "# 作業1\n",
    "* 觀察範例，在房價預測中調整標籤編碼(Label Encoder) / 獨熱編碼 (One Hot Encoder) 方式，  \n",
    "對於線性迴歸以及梯度提升樹兩種模型，何者影響比較大?\n",
    "\n",
    "Ans:獨熱編碼 (One Hot Encoder) 影響較大，所需時間較多\n",
    "\n",
    "# 作業2\n",
    "* 鐵達尼號例題中，標籤編碼 / 獨熱編碼又分別對預測結果有何影響?\n",
    "Ans:結果差不多，但獨熱編碼 (One Hot Encoder)所花時間卻多很多"
   ]
  },
  {
   "cell_type": "code",
   "execution_count": 48,
   "metadata": {
    "collapsed": true
   },
   "outputs": [],
   "source": [
    "# 做完特徵工程前的所有準備\n",
    "import pandas as pd\n",
    "import numpy as np\n",
    "import copy, time\n",
    "from sklearn.preprocessing import MinMaxScaler\n",
    "from sklearn.model_selection import cross_val_score\n",
    "from sklearn.linear_model import LinearRegression\n",
    "from sklearn.ensemble import GradientBoostingRegressor\n",
    "from sklearn.preprocessing import LabelEncoder\n",
    "\n",
    "data_path = '/Users/seanhung06/Documents/GitHub/Data/'\n",
    "df_train = pd.read_csv(data_path + 'titanic_train.csv.gz')\n",
    "df_test = pd.read_csv(data_path + 'titanic_test.csv.gz')"
   ]
  },
  {
   "cell_type": "code",
   "execution_count": 49,
   "metadata": {},
   "outputs": [
    {
     "output_type": "execute_result",
     "data": {
      "text/plain": "   Pclass                                               Name     Sex   Age  \\\n0       3                            Braund, Mr. Owen Harris    male  22.0   \n1       1  Cumings, Mrs. John Bradley (Florence Briggs Th...  female  38.0   \n2       3                             Heikkinen, Miss. Laina  female  26.0   \n3       1       Futrelle, Mrs. Jacques Heath (Lily May Peel)  female  35.0   \n4       3                           Allen, Mr. William Henry    male  35.0   \n\n   SibSp  Parch            Ticket     Fare Cabin Embarked  \n0      1      0         A/5 21171   7.2500   NaN        S  \n1      1      0          PC 17599  71.2833   C85        C  \n2      0      0  STON/O2. 3101282   7.9250   NaN        S  \n3      1      0            113803  53.1000  C123        S  \n4      0      0            373450   8.0500   NaN        S  ",
      "text/html": "<div>\n<style scoped>\n    .dataframe tbody tr th:only-of-type {\n        vertical-align: middle;\n    }\n\n    .dataframe tbody tr th {\n        vertical-align: top;\n    }\n\n    .dataframe thead th {\n        text-align: right;\n    }\n</style>\n<table border=\"1\" class=\"dataframe\">\n  <thead>\n    <tr style=\"text-align: right;\">\n      <th></th>\n      <th>Pclass</th>\n      <th>Name</th>\n      <th>Sex</th>\n      <th>Age</th>\n      <th>SibSp</th>\n      <th>Parch</th>\n      <th>Ticket</th>\n      <th>Fare</th>\n      <th>Cabin</th>\n      <th>Embarked</th>\n    </tr>\n  </thead>\n  <tbody>\n    <tr>\n      <td>0</td>\n      <td>3</td>\n      <td>Braund, Mr. Owen Harris</td>\n      <td>male</td>\n      <td>22.0</td>\n      <td>1</td>\n      <td>0</td>\n      <td>A/5 21171</td>\n      <td>7.2500</td>\n      <td>NaN</td>\n      <td>S</td>\n    </tr>\n    <tr>\n      <td>1</td>\n      <td>1</td>\n      <td>Cumings, Mrs. John Bradley (Florence Briggs Th...</td>\n      <td>female</td>\n      <td>38.0</td>\n      <td>1</td>\n      <td>0</td>\n      <td>PC 17599</td>\n      <td>71.2833</td>\n      <td>C85</td>\n      <td>C</td>\n    </tr>\n    <tr>\n      <td>2</td>\n      <td>3</td>\n      <td>Heikkinen, Miss. Laina</td>\n      <td>female</td>\n      <td>26.0</td>\n      <td>0</td>\n      <td>0</td>\n      <td>STON/O2. 3101282</td>\n      <td>7.9250</td>\n      <td>NaN</td>\n      <td>S</td>\n    </tr>\n    <tr>\n      <td>3</td>\n      <td>1</td>\n      <td>Futrelle, Mrs. Jacques Heath (Lily May Peel)</td>\n      <td>female</td>\n      <td>35.0</td>\n      <td>1</td>\n      <td>0</td>\n      <td>113803</td>\n      <td>53.1000</td>\n      <td>C123</td>\n      <td>S</td>\n    </tr>\n    <tr>\n      <td>4</td>\n      <td>3</td>\n      <td>Allen, Mr. William Henry</td>\n      <td>male</td>\n      <td>35.0</td>\n      <td>0</td>\n      <td>0</td>\n      <td>373450</td>\n      <td>8.0500</td>\n      <td>NaN</td>\n      <td>S</td>\n    </tr>\n  </tbody>\n</table>\n</div>"
     },
     "metadata": {},
     "execution_count": 49
    }
   ],
   "source": [
    "train_Y = np.log1p(df_train['Survived'])\n",
    "ids = df_test['PassengerId']\n",
    "df_train = df_train.drop(['PassengerId', 'Survived'] , axis=1)\n",
    "df_test = df_test.drop(['PassengerId'] , axis=1)\n",
    "df = pd.concat([df_train,df_test])\n",
    "df.head()"
   ]
  },
  {
   "cell_type": "code",
   "execution_count": 50,
   "metadata": {
    "tags": []
   },
   "outputs": [],
   "source": [
    "titanic_object_feature = []\n",
    "for dtype, feature in zip(df.dtypes, df.columns):\n",
    "    if(dtype == 'object'):\n",
    "        titanic_object_feature.append(feature)\n",
    "df=df[titanic_object_feature]\n",
    "df = df.fillna('None')\n",
    "train_num = train_Y.shape[0]"
   ]
  },
  {
   "cell_type": "code",
   "execution_count": 54,
   "metadata": {},
   "outputs": [
    {
     "output_type": "execute_result",
     "data": {
      "text/plain": "                                                  Name     Sex  \\\n0                              Braund, Mr. Owen Harris    male   \n1    Cumings, Mrs. John Bradley (Florence Briggs Th...  female   \n2                               Heikkinen, Miss. Laina  female   \n3         Futrelle, Mrs. Jacques Heath (Lily May Peel)  female   \n4                             Allen, Mr. William Henry    male   \n..                                                 ...     ...   \n413                                 Spector, Mr. Woolf    male   \n414                       Oliva y Ocana, Dona. Fermina  female   \n415                       Saether, Mr. Simon Sivertsen    male   \n416                                Ware, Mr. Frederick    male   \n417                           Peter, Master. Michael J    male   \n\n                 Ticket Cabin Embarked  \n0             A/5 21171  None        S  \n1              PC 17599   C85        C  \n2      STON/O2. 3101282  None        S  \n3                113803  C123        S  \n4                373450  None        S  \n..                  ...   ...      ...  \n413           A.5. 3236  None        S  \n414            PC 17758  C105        C  \n415  SOTON/O.Q. 3101262  None        S  \n416              359309  None        S  \n417                2668  None        C  \n\n[1309 rows x 5 columns]",
      "text/html": "<div>\n<style scoped>\n    .dataframe tbody tr th:only-of-type {\n        vertical-align: middle;\n    }\n\n    .dataframe tbody tr th {\n        vertical-align: top;\n    }\n\n    .dataframe thead th {\n        text-align: right;\n    }\n</style>\n<table border=\"1\" class=\"dataframe\">\n  <thead>\n    <tr style=\"text-align: right;\">\n      <th></th>\n      <th>Name</th>\n      <th>Sex</th>\n      <th>Ticket</th>\n      <th>Cabin</th>\n      <th>Embarked</th>\n    </tr>\n  </thead>\n  <tbody>\n    <tr>\n      <td>0</td>\n      <td>Braund, Mr. Owen Harris</td>\n      <td>male</td>\n      <td>A/5 21171</td>\n      <td>None</td>\n      <td>S</td>\n    </tr>\n    <tr>\n      <td>1</td>\n      <td>Cumings, Mrs. John Bradley (Florence Briggs Th...</td>\n      <td>female</td>\n      <td>PC 17599</td>\n      <td>C85</td>\n      <td>C</td>\n    </tr>\n    <tr>\n      <td>2</td>\n      <td>Heikkinen, Miss. Laina</td>\n      <td>female</td>\n      <td>STON/O2. 3101282</td>\n      <td>None</td>\n      <td>S</td>\n    </tr>\n    <tr>\n      <td>3</td>\n      <td>Futrelle, Mrs. Jacques Heath (Lily May Peel)</td>\n      <td>female</td>\n      <td>113803</td>\n      <td>C123</td>\n      <td>S</td>\n    </tr>\n    <tr>\n      <td>4</td>\n      <td>Allen, Mr. William Henry</td>\n      <td>male</td>\n      <td>373450</td>\n      <td>None</td>\n      <td>S</td>\n    </tr>\n    <tr>\n      <td>...</td>\n      <td>...</td>\n      <td>...</td>\n      <td>...</td>\n      <td>...</td>\n      <td>...</td>\n    </tr>\n    <tr>\n      <td>413</td>\n      <td>Spector, Mr. Woolf</td>\n      <td>male</td>\n      <td>A.5. 3236</td>\n      <td>None</td>\n      <td>S</td>\n    </tr>\n    <tr>\n      <td>414</td>\n      <td>Oliva y Ocana, Dona. Fermina</td>\n      <td>female</td>\n      <td>PC 17758</td>\n      <td>C105</td>\n      <td>C</td>\n    </tr>\n    <tr>\n      <td>415</td>\n      <td>Saether, Mr. Simon Sivertsen</td>\n      <td>male</td>\n      <td>SOTON/O.Q. 3101262</td>\n      <td>None</td>\n      <td>S</td>\n    </tr>\n    <tr>\n      <td>416</td>\n      <td>Ware, Mr. Frederick</td>\n      <td>male</td>\n      <td>359309</td>\n      <td>None</td>\n      <td>S</td>\n    </tr>\n    <tr>\n      <td>417</td>\n      <td>Peter, Master. Michael J</td>\n      <td>male</td>\n      <td>2668</td>\n      <td>None</td>\n      <td>C</td>\n    </tr>\n  </tbody>\n</table>\n<p>1309 rows × 5 columns</p>\n</div>"
     },
     "metadata": {},
     "execution_count": 54
    }
   ],
   "source": [
    "df"
   ]
  },
  {
   "cell_type": "code",
   "execution_count": 60,
   "metadata": {
    "tags": []
   },
   "outputs": [
    {
     "output_type": "stream",
     "name": "stdout",
     "text": "shape : (891, 5)\nscore : 0.33494273995838597\ntime : 0.1689600944519043 sec\n"
    }
   ],
   "source": [
    "# 標籤編碼 + 線性迴歸\n",
    "df_temp = pd.DataFrame()\n",
    "\n",
    "for i in df.columns:\n",
    "    df_temp[i] = LabelEncoder().fit_transform(df[i])\n",
    "train_X = df_temp[:train_num]\n",
    "estimator = LinearRegression()\n",
    "start = time.time()\n",
    "print(f'shape : {train_X.shape}')\n",
    "print(f'score : {cross_val_score(estimator, train_X, train_Y, cv=5).mean()}')\n",
    "print(f'time : {time.time() - start} sec')"
   ]
  },
  {
   "cell_type": "code",
   "execution_count": 65,
   "metadata": {
    "tags": []
   },
   "outputs": [
    {
     "output_type": "stream",
     "name": "stdout",
     "text": "shape : (891, 2429)\nscore : 0.4120674787869212\ntime : 2.463088035583496 sec\n"
    }
   ],
   "source": [
    "# 獨熱編碼 + 線性迴歸\n",
    "df_temp = pd.get_dummies(df)\n",
    "train_X = df_temp[:train_num]\n",
    "estimator = LinearRegression()\n",
    "start = time.time()\n",
    "print(f'shape : {train_X.shape}')\n",
    "print(f'score : {cross_val_score(estimator, train_X, train_Y, cv=5).mean()}')\n",
    "print(f'time : {time.time() - start} sec')"
   ]
  },
  {
   "cell_type": "code",
   "execution_count": 66,
   "metadata": {
    "tags": []
   },
   "outputs": [
    {
     "output_type": "stream",
     "name": "stdout",
     "text": "shape : (891, 5)\nscore : 0.3762043275557158\ntime : 0.4628729820251465 sec\n"
    }
   ],
   "source": [
    "# 標籤編碼 + 梯度提升樹\n",
    "df_temp = pd.DataFrame()\n",
    "for c in df.columns:\n",
    "    df_temp[c] = LabelEncoder().fit_transform(df[c])\n",
    "train_X = df_temp[:train_num]\n",
    "estimator = GradientBoostingRegressor()\n",
    "start = time.time()\n",
    "print(f'shape : {train_X.shape}')\n",
    "print(f'score : {cross_val_score(estimator, train_X, train_Y, cv=5).mean()}')\n",
    "print(f'time : {time.time() - start} sec')"
   ]
  },
  {
   "cell_type": "code",
   "execution_count": 67,
   "metadata": {
    "tags": []
   },
   "outputs": [
    {
     "output_type": "stream",
     "name": "stdout",
     "text": "shape : (891, 2429)\nscore : 0.37401274636586834\ntime : 8.695841073989868 sec\n"
    }
   ],
   "source": [
    "# 獨熱編碼 + 梯度提升樹\n",
    "df_temp = pd.get_dummies(df)\n",
    "train_X = df_temp[:train_num]\n",
    "estimator = GradientBoostingRegressor()\n",
    "start = time.time()\n",
    "print(f'shape : {train_X.shape}')\n",
    "print(f'score : {cross_val_score(estimator, train_X, train_Y, cv=5).mean()}')\n",
    "print(f'time : {time.time() - start} sec')"
   ]
  },
  {
   "cell_type": "code",
   "execution_count": null,
   "metadata": {},
   "outputs": [],
   "source": []
  }
 ],
 "metadata": {
  "kernelspec": {
   "display_name": "Python 3",
   "language": "python",
   "name": "python3"
  },
  "language_info": {
   "codemirror_mode": {
    "name": "ipython",
    "version": 3
   },
   "file_extension": ".py",
   "mimetype": "text/x-python",
   "name": "python",
   "nbconvert_exporter": "python",
   "pygments_lexer": "ipython3",
   "version": "3.7.4-final"
  }
 },
 "nbformat": 4,
 "nbformat_minor": 2
}