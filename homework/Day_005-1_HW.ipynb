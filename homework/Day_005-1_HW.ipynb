{
 "cells": [
  {
   "cell_type": "markdown",
   "metadata": {},
   "source": [
    "# [作業目標]\n",
    "- 利用範例的創建方式, 創建一組資料, 並練習如何取出最大值"
   ]
  },
  {
   "cell_type": "markdown",
   "metadata": {},
   "source": [
    "# [作業重點]\n",
    "- 練習創立 DataFrame (In[2])\n",
    "- 如何取出口數最多的國家 (In[3], Out[3])"
   ]
  },
  {
   "cell_type": "markdown",
   "metadata": {},
   "source": [
    "## 練習時間\n",
    "在小量的資料上，我們用眼睛就可以看得出來程式碼是否有跑出我們理想中的結果\n",
    "\n",
    "請嘗試想像一個你需要的資料結構 (裡面的值可以是隨機的)，然後用上述的方法把它變成 pandas DataFrame\n",
    "\n",
    "#### Ex: 想像一個 dataframe 有兩個欄位，一個是國家，一個是人口，求人口數最多的國家\n",
    "\n",
    "### Hints: [隨機產生數值](https://blog.csdn.net/christianashannon/article/details/78867204)"
   ]
  },
  {
   "cell_type": "code",
   "execution_count": 10,
   "metadata": {},
   "outputs": [
    {
     "name": "stdout",
     "output_type": "stream",
     "text": [
      "Requirement already satisfied: pycountry in /Users/seanhung06/opt/anaconda3/lib/python3.7/site-packages (19.8.18)\n",
      "Note: you may need to restart the kernel to use updated packages.\n"
     ]
    }
   ],
   "source": [
    "import pandas as pd\n",
    "import numpy as np\n",
    "import random \n",
    "%pip install pycountry\n",
    "import pycountry \n"
   ]
  },
  {
   "cell_type": "code",
   "execution_count": 46,
   "metadata": {},
   "outputs": [
    {
     "name": "stdout",
     "output_type": "stream",
     "text": [
      "                                                   國家                人口\n",
      "0   Country(alpha_2='MY', alpha_3='MYS', name='Mal...  2815266604008921\n",
      "1   Country(alpha_2='NZ', alpha_3='NZL', name='New...  6904207500513857\n",
      "2   Country(alpha_2='DZ', alpha_3='DZA', name='Alg...   572438206271410\n",
      "3   Country(alpha_2='MD', alpha_3='MDA', common_na...   228750326300771\n",
      "4   Country(alpha_2='KN', alpha_3='KNA', name='Sai...  1900815388150430\n",
      "5   Country(alpha_2='GA', alpha_3='GAB', name='Gab...  2579534044563495\n",
      "6   Country(alpha_2='GD', alpha_3='GRD', name='Gre...  4803802341784929\n",
      "7   Country(alpha_2='GI', alpha_3='GIB', name='Gib...  5324089419777743\n",
      "8   Country(alpha_2='ES', alpha_3='ESP', name='Spa...  1118634065306875\n",
      "9   Country(alpha_2='SN', alpha_3='SEN', name='Sen...  3560482808299643\n",
      "10  Country(alpha_2='SY', alpha_3='SYR', name='Syr...  3968259568203657\n",
      "11  Country(alpha_2='KI', alpha_3='KIR', name='Kir...  8243099928980204\n",
      "12  Country(alpha_2='LS', alpha_3='LSO', name='Les...  1733616037541914\n",
      "13  Country(alpha_2='BV', alpha_3='BVT', name='Bou...  4160645691543646\n",
      "14  Country(alpha_2='NG', alpha_3='NGA', name='Nig...  8132681709032811\n",
      "15  Country(alpha_2='CK', alpha_3='COK', name='Coo...  2057554478350721\n",
      "16  Country(alpha_2='BF', alpha_3='BFA', name='Bur...  8963343635142064\n",
      "17  Country(alpha_2='EC', alpha_3='ECU', name='Ecu...  4224640244084629\n",
      "18  Country(alpha_2='PY', alpha_3='PRY', name='Par...  1715337055276616\n",
      "19  Country(alpha_2='PN', alpha_3='PCN', name='Pit...  5776526604068120\n"
     ]
    }
   ],
   "source": [
    "Country = list(pycountry.countries)\n",
    "data = {'國家': random.sample(Country, 20) ,\n",
    "        '人口': np.random.randint(1000000,10000000000000000,size=20)}\n",
    "data1 = pd.DataFrame(data)\n",
    "print(data1)\n"
   ]
  },
  {
   "cell_type": "code",
   "execution_count": null,
   "metadata": {},
   "outputs": [],
   "source": []
  },
  {
   "cell_type": "code",
   "execution_count": null,
   "metadata": {},
   "outputs": [],
   "source": []
  }
 ],
 "metadata": {
  "kernelspec": {
   "display_name": "Python 3",
   "language": "python",
   "name": "python3"
  },
  "language_info": {
   "codemirror_mode": {
    "name": "ipython",
    "version": 3
   },
   "file_extension": ".py",
   "mimetype": "text/x-python",
   "name": "python",
   "nbconvert_exporter": "python",
   "pygments_lexer": "ipython3",
   "version": "3.7.4"
  }
 },
 "nbformat": 4,
 "nbformat_minor": 2
}
