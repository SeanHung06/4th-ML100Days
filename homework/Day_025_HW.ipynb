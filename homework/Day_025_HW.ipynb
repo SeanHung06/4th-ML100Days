{
 "cells": [
  {
   "cell_type": "markdown",
   "metadata": {
    "collapsed": true
   },
   "source": [
    "# 作業 : (Kaggle)鐵達尼生存預測\n",
    "https://www.kaggle.com/c/titanic"
   ]
  },
  {
   "cell_type": "markdown",
   "metadata": {},
   "source": [
    "# [作業目標]\n",
    "- 試著模仿範例寫法, 在鐵達尼生存預測中, 觀察均值編碼的效果"
   ]
  },
  {
   "cell_type": "markdown",
   "metadata": {},
   "source": [
    "# [作業重點]\n",
    "- 仿造範例, 完成標籤編碼與均值編碼搭配邏輯斯迴歸的預測\n",
    "- 觀察標籤編碼與均值編碼在特徵數量 / 邏輯斯迴歸分數 / 邏輯斯迴歸時間上, 分別有什麼影響 (In[3], Out[3], In[4], Out[4]) "
   ]
  },
  {
   "cell_type": "markdown",
   "metadata": {
    "collapsed": true
   },
   "source": [
    "# 作業1\n",
    "* 請仿照範例，將鐵達尼範例中的類別型特徵改用均值編碼實作一次"
   ]
  },
  {
   "cell_type": "code",
   "execution_count": 4,
   "metadata": {},
   "outputs": [
    {
     "output_type": "execute_result",
     "data": {
      "text/plain": "   Pclass                                               Name     Sex   Age  \\\n0       3                            Braund, Mr. Owen Harris    male  22.0   \n1       1  Cumings, Mrs. John Bradley (Florence Briggs Th...  female  38.0   \n2       3                             Heikkinen, Miss. Laina  female  26.0   \n3       1       Futrelle, Mrs. Jacques Heath (Lily May Peel)  female  35.0   \n4       3                           Allen, Mr. William Henry    male  35.0   \n\n   SibSp  Parch            Ticket     Fare Cabin Embarked  \n0      1      0         A/5 21171   7.2500   NaN        S  \n1      1      0          PC 17599  71.2833   C85        C  \n2      0      0  STON/O2. 3101282   7.9250   NaN        S  \n3      1      0            113803  53.1000  C123        S  \n4      0      0            373450   8.0500   NaN        S  ",
      "text/html": "<div>\n<style scoped>\n    .dataframe tbody tr th:only-of-type {\n        vertical-align: middle;\n    }\n\n    .dataframe tbody tr th {\n        vertical-align: top;\n    }\n\n    .dataframe thead th {\n        text-align: right;\n    }\n</style>\n<table border=\"1\" class=\"dataframe\">\n  <thead>\n    <tr style=\"text-align: right;\">\n      <th></th>\n      <th>Pclass</th>\n      <th>Name</th>\n      <th>Sex</th>\n      <th>Age</th>\n      <th>SibSp</th>\n      <th>Parch</th>\n      <th>Ticket</th>\n      <th>Fare</th>\n      <th>Cabin</th>\n      <th>Embarked</th>\n    </tr>\n  </thead>\n  <tbody>\n    <tr>\n      <td>0</td>\n      <td>3</td>\n      <td>Braund, Mr. Owen Harris</td>\n      <td>male</td>\n      <td>22.0</td>\n      <td>1</td>\n      <td>0</td>\n      <td>A/5 21171</td>\n      <td>7.2500</td>\n      <td>NaN</td>\n      <td>S</td>\n    </tr>\n    <tr>\n      <td>1</td>\n      <td>1</td>\n      <td>Cumings, Mrs. John Bradley (Florence Briggs Th...</td>\n      <td>female</td>\n      <td>38.0</td>\n      <td>1</td>\n      <td>0</td>\n      <td>PC 17599</td>\n      <td>71.2833</td>\n      <td>C85</td>\n      <td>C</td>\n    </tr>\n    <tr>\n      <td>2</td>\n      <td>3</td>\n      <td>Heikkinen, Miss. Laina</td>\n      <td>female</td>\n      <td>26.0</td>\n      <td>0</td>\n      <td>0</td>\n      <td>STON/O2. 3101282</td>\n      <td>7.9250</td>\n      <td>NaN</td>\n      <td>S</td>\n    </tr>\n    <tr>\n      <td>3</td>\n      <td>1</td>\n      <td>Futrelle, Mrs. Jacques Heath (Lily May Peel)</td>\n      <td>female</td>\n      <td>35.0</td>\n      <td>1</td>\n      <td>0</td>\n      <td>113803</td>\n      <td>53.1000</td>\n      <td>C123</td>\n      <td>S</td>\n    </tr>\n    <tr>\n      <td>4</td>\n      <td>3</td>\n      <td>Allen, Mr. William Henry</td>\n      <td>male</td>\n      <td>35.0</td>\n      <td>0</td>\n      <td>0</td>\n      <td>373450</td>\n      <td>8.0500</td>\n      <td>NaN</td>\n      <td>S</td>\n    </tr>\n  </tbody>\n</table>\n</div>"
     },
     "metadata": {},
     "execution_count": 4
    }
   ],
   "source": [
    "# 做完特徵工程前的所有準備 (與前範例相同)\n",
    "import pandas as pd\n",
    "import numpy as np\n",
    "import copy, time\n",
    "from sklearn.preprocessing import MinMaxScaler\n",
    "from sklearn.model_selection import cross_val_score\n",
    "from sklearn.linear_model import LogisticRegression\n",
    "from sklearn.preprocessing import LabelEncoder\n",
    "\n",
    "data_path = '/Users/seanhung06/Documents/GitHub/Data/'\n",
    "df_train = pd.read_csv(data_path + 'titanic_train.csv')\n",
    "df_test = pd.read_csv(data_path + 'titanic_test.csv')\n",
    "\n",
    "train_Y = df_train['Survived']\n",
    "ids = df_test['PassengerId']\n",
    "df_train = df_train.drop(['PassengerId', 'Survived'] , axis=1)\n",
    "df_test = df_test.drop(['PassengerId'] , axis=1)\n",
    "df = pd.concat([df_train,df_test])\n",
    "df.head()"
   ]
  },
  {
   "cell_type": "code",
   "execution_count": 5,
   "metadata": {
    "tags": []
   },
   "outputs": [
    {
     "output_type": "stream",
     "name": "stdout",
     "text": "5 Numeric Features : ['Name', 'Sex', 'Ticket', 'Cabin', 'Embarked']\n\n"
    },
    {
     "output_type": "execute_result",
     "data": {
      "text/plain": "                                                Name     Sex  \\\n0                            Braund, Mr. Owen Harris    male   \n1  Cumings, Mrs. John Bradley (Florence Briggs Th...  female   \n2                             Heikkinen, Miss. Laina  female   \n3       Futrelle, Mrs. Jacques Heath (Lily May Peel)  female   \n4                           Allen, Mr. William Henry    male   \n\n             Ticket Cabin Embarked  \n0         A/5 21171  None        S  \n1          PC 17599   C85        C  \n2  STON/O2. 3101282  None        S  \n3            113803  C123        S  \n4            373450  None        S  ",
      "text/html": "<div>\n<style scoped>\n    .dataframe tbody tr th:only-of-type {\n        vertical-align: middle;\n    }\n\n    .dataframe tbody tr th {\n        vertical-align: top;\n    }\n\n    .dataframe thead th {\n        text-align: right;\n    }\n</style>\n<table border=\"1\" class=\"dataframe\">\n  <thead>\n    <tr style=\"text-align: right;\">\n      <th></th>\n      <th>Name</th>\n      <th>Sex</th>\n      <th>Ticket</th>\n      <th>Cabin</th>\n      <th>Embarked</th>\n    </tr>\n  </thead>\n  <tbody>\n    <tr>\n      <td>0</td>\n      <td>Braund, Mr. Owen Harris</td>\n      <td>male</td>\n      <td>A/5 21171</td>\n      <td>None</td>\n      <td>S</td>\n    </tr>\n    <tr>\n      <td>1</td>\n      <td>Cumings, Mrs. John Bradley (Florence Briggs Th...</td>\n      <td>female</td>\n      <td>PC 17599</td>\n      <td>C85</td>\n      <td>C</td>\n    </tr>\n    <tr>\n      <td>2</td>\n      <td>Heikkinen, Miss. Laina</td>\n      <td>female</td>\n      <td>STON/O2. 3101282</td>\n      <td>None</td>\n      <td>S</td>\n    </tr>\n    <tr>\n      <td>3</td>\n      <td>Futrelle, Mrs. Jacques Heath (Lily May Peel)</td>\n      <td>female</td>\n      <td>113803</td>\n      <td>C123</td>\n      <td>S</td>\n    </tr>\n    <tr>\n      <td>4</td>\n      <td>Allen, Mr. William Henry</td>\n      <td>male</td>\n      <td>373450</td>\n      <td>None</td>\n      <td>S</td>\n    </tr>\n  </tbody>\n</table>\n</div>"
     },
     "metadata": {},
     "execution_count": 5
    }
   ],
   "source": [
    "#只取類別值 (object) 型欄位, 存於 object_features 中\n",
    "object_features = []\n",
    "for dtype, feature in zip(df.dtypes, df.columns):\n",
    "    if dtype == 'object':\n",
    "        object_features.append(feature)\n",
    "print(f'{len(object_features)} Numeric Features : {object_features}\\n')\n",
    "\n",
    "# 只留類別型欄位\n",
    "df = df[object_features]\n",
    "df = df.fillna('None')\n",
    "train_num = train_Y.shape[0]\n",
    "df.head()"
   ]
  },
  {
   "cell_type": "markdown",
   "metadata": {
    "collapsed": true
   },
   "source": [
    "# 作業2\n",
    "* 觀察鐵達尼生存預測中，均值編碼與標籤編碼兩者比較，哪一個效果比較好? 可能的原因是什麼?"
   ]
  },
  {
   "cell_type": "code",
   "execution_count": 11,
   "metadata": {
    "collapsed": true,
    "tags": []
   },
   "outputs": [
    {
     "output_type": "stream",
     "name": "stdout",
     "text": "shape : (891, 5)\nscore : 0.780004837244799\ntime : 0.14720702171325684 sec\n"
    }
   ],
   "source": [
    "# 對照組 : 標籤編碼 + 線性迴歸\n",
    "from sklearn.linear_model import LinearRegression\n",
    "\n",
    "df_temp = pd.DataFrame()\n",
    "for c in df.columns:\n",
    "    df_temp[c] = LabelEncoder().fit_transform(df[c])\n",
    "train_X = df_temp[:train_num]\n",
    "estimator = LogisticRegression()\n",
    "start = time.time()\n",
    "print(f'shape : {train_X.shape}')\n",
    "print(f'score : {cross_val_score(estimator, train_X, train_Y, cv=5).mean()}')\n",
    "print(f'time : {time.time() - start} sec')\n",
    "\n"
   ]
  },
  {
   "cell_type": "code",
   "execution_count": 13,
   "metadata": {
    "collapsed": true,
    "tags": []
   },
   "outputs": [
    {
     "output_type": "stream",
     "name": "stdout",
     "text": "shape : (891, 5)\nscore : 1.0\ntime : 0.03085613250732422 sec\n"
    }
   ],
   "source": [
    "# 均值編碼 + 邏輯斯迴歸\n",
    "data = pd.concat([df[:train_num], train_Y], axis=1)\n",
    "for c in df.columns:\n",
    "    mean_df = data.groupby([c])['Survived'].mean().reset_index()\n",
    "    mean_df.columns = [c, f'{c}_mean']\n",
    "    data = pd.merge(data, mean_df, on=c, how='left')\n",
    "    data = data.drop([c] , axis=1)\n",
    "data = data.drop(['Survived'] , axis=1)\n",
    "estimator = LogisticRegression()\n",
    "start = time.time()\n",
    "print(f'shape : {train_X.shape}')\n",
    "print(f'score : {cross_val_score(estimator, data, train_Y, cv=5).mean()}')\n",
    "print(f'time : {time.time() - start} sec')"
   ]
  },
  {
   "cell_type": "code",
   "execution_count": 16,
   "metadata": {},
   "outputs": [
    {
     "output_type": "execute_result",
     "data": {
      "text/plain": "Name        891\nSex           2\nTicket      681\nCabin       148\nEmbarked      4\ndtype: int64"
     },
     "metadata": {},
     "execution_count": 16
    }
   ],
   "source": [
    "# 如果欄位類別數太多, 需要先剔除, 否則會 overfit (正確率會到達 1.0)\n",
    "train_X.nunique()"
   ]
  },
  {
   "cell_type": "code",
   "execution_count": 19,
   "metadata": {
    "tags": []
   },
   "outputs": [
    {
     "output_type": "execute_result",
     "data": {
      "text/plain": "     Survived  Name_mean  Sex_mean  Ticket_mean  Cabin_mean  Embarked_mean\n0           0          0  0.188908          0.0    0.299854       0.336957\n1           1          1  0.742038          1.0    1.000000       0.553571\n2           1          1  0.742038          1.0    0.299854       0.336957\n3           1          1  0.742038          0.5    0.500000       0.336957\n4           0          0  0.188908          0.0    0.299854       0.336957\n..        ...        ...       ...          ...         ...            ...\n886         0          0  0.188908          0.0    0.299854       0.336957\n887         1          1  0.742038          1.0    1.000000       0.336957\n888         0          0  0.742038          0.0    0.299854       0.336957\n889         1          1  0.188908          1.0    1.000000       0.553571\n890         0          0  0.188908          0.0    0.299854       0.389610\n\n[891 rows x 6 columns]",
      "text/html": "<div>\n<style scoped>\n    .dataframe tbody tr th:only-of-type {\n        vertical-align: middle;\n    }\n\n    .dataframe tbody tr th {\n        vertical-align: top;\n    }\n\n    .dataframe thead th {\n        text-align: right;\n    }\n</style>\n<table border=\"1\" class=\"dataframe\">\n  <thead>\n    <tr style=\"text-align: right;\">\n      <th></th>\n      <th>Survived</th>\n      <th>Name_mean</th>\n      <th>Sex_mean</th>\n      <th>Ticket_mean</th>\n      <th>Cabin_mean</th>\n      <th>Embarked_mean</th>\n    </tr>\n  </thead>\n  <tbody>\n    <tr>\n      <td>0</td>\n      <td>0</td>\n      <td>0</td>\n      <td>0.188908</td>\n      <td>0.0</td>\n      <td>0.299854</td>\n      <td>0.336957</td>\n    </tr>\n    <tr>\n      <td>1</td>\n      <td>1</td>\n      <td>1</td>\n      <td>0.742038</td>\n      <td>1.0</td>\n      <td>1.000000</td>\n      <td>0.553571</td>\n    </tr>\n    <tr>\n      <td>2</td>\n      <td>1</td>\n      <td>1</td>\n      <td>0.742038</td>\n      <td>1.0</td>\n      <td>0.299854</td>\n      <td>0.336957</td>\n    </tr>\n    <tr>\n      <td>3</td>\n      <td>1</td>\n      <td>1</td>\n      <td>0.742038</td>\n      <td>0.5</td>\n      <td>0.500000</td>\n      <td>0.336957</td>\n    </tr>\n    <tr>\n      <td>4</td>\n      <td>0</td>\n      <td>0</td>\n      <td>0.188908</td>\n      <td>0.0</td>\n      <td>0.299854</td>\n      <td>0.336957</td>\n    </tr>\n    <tr>\n      <td>...</td>\n      <td>...</td>\n      <td>...</td>\n      <td>...</td>\n      <td>...</td>\n      <td>...</td>\n      <td>...</td>\n    </tr>\n    <tr>\n      <td>886</td>\n      <td>0</td>\n      <td>0</td>\n      <td>0.188908</td>\n      <td>0.0</td>\n      <td>0.299854</td>\n      <td>0.336957</td>\n    </tr>\n    <tr>\n      <td>887</td>\n      <td>1</td>\n      <td>1</td>\n      <td>0.742038</td>\n      <td>1.0</td>\n      <td>1.000000</td>\n      <td>0.336957</td>\n    </tr>\n    <tr>\n      <td>888</td>\n      <td>0</td>\n      <td>0</td>\n      <td>0.742038</td>\n      <td>0.0</td>\n      <td>0.299854</td>\n      <td>0.336957</td>\n    </tr>\n    <tr>\n      <td>889</td>\n      <td>1</td>\n      <td>1</td>\n      <td>0.188908</td>\n      <td>1.0</td>\n      <td>1.000000</td>\n      <td>0.553571</td>\n    </tr>\n    <tr>\n      <td>890</td>\n      <td>0</td>\n      <td>0</td>\n      <td>0.188908</td>\n      <td>0.0</td>\n      <td>0.299854</td>\n      <td>0.389610</td>\n    </tr>\n  </tbody>\n</table>\n<p>891 rows × 6 columns</p>\n</div>"
     },
     "metadata": {},
     "execution_count": 19
    }
   ],
   "source": [
    "\n",
    "\n",
    "# 均值編碼 + 邏輯斯迴歸\n",
    "data = pd.concat([df[:train_num], train_Y], axis=1)\n",
    "for c in df.columns:\n",
    "    mean_df = data.groupby([c])['Survived'].mean().reset_index()\n",
    "    mean_df.columns = [c, f'{c}_mean']\n",
    "    data = pd.merge(data, mean_df, on=c, how='left')\n",
    "    data = data.drop([c] , axis=1)\n",
    "data"
   ]
  },
  {
   "cell_type": "code",
   "execution_count": 20,
   "metadata": {
    "tags": []
   },
   "outputs": [
    {
     "output_type": "stream",
     "name": "stdout",
     "text": "shape : (891, 5)\nscore : 0.8350366889413987\ntime : 0.05565595626831055 sec\n"
    }
   ],
   "source": [
    "data = data.drop(['Survived', 'Name_mean', 'Ticket_mean'] , axis=1)\n",
    "estimator = LogisticRegression()\n",
    "start = time.time()\n",
    "print(f'shape : {train_X.shape}')\n",
    "print(f'score : {cross_val_score(estimator, data, train_Y, cv=5).mean()}')\n",
    "print(f'time : {time.time() - start} sec')"
   ]
  },
  {
   "cell_type": "code",
   "execution_count": null,
   "metadata": {},
   "outputs": [],
   "source": []
  }
 ],
 "metadata": {
  "kernelspec": {
   "display_name": "Python 3",
   "language": "python",
   "name": "python3"
  },
  "language_info": {
   "codemirror_mode": {
    "name": "ipython",
    "version": 3
   },
   "file_extension": ".py",
   "mimetype": "text/x-python",
   "name": "python",
   "nbconvert_exporter": "python",
   "pygments_lexer": "ipython3",
   "version": "3.7.4-final"
  }
 },
 "nbformat": 4,
 "nbformat_minor": 2
}